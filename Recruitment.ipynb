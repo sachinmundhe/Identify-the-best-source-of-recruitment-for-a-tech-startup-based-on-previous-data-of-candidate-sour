{
 "cells": [
  {
   "cell_type": "markdown",
   "id": "68f4c709",
   "metadata": {},
   "source": [
    "# Identify the best source of recruitment for a tech startup, based on previous data of candidate sources and recruitment strategies\n",
    "## HR analytics is one of the biggest areas of work data scientist. And improving hiring processes is one of the most important problems to solve in this field."
   ]
  },
  {
   "cell_type": "code",
   "execution_count": 1,
   "id": "d6488d9b",
   "metadata": {},
   "outputs": [],
   "source": [
    "import pandas as pd\n",
    "import numpy as np\n",
    "import warnings\n",
    "warnings.filterwarnings('ignore')\n",
    "from matplotlib import pyplot as plt\n",
    "import seaborn as sns"
   ]
  },
  {
   "cell_type": "code",
   "execution_count": 2,
   "id": "3de7cd46",
   "metadata": {},
   "outputs": [
    {
     "data": {
      "text/html": [
       "<div>\n",
       "<style scoped>\n",
       "    .dataframe tbody tr th:only-of-type {\n",
       "        vertical-align: middle;\n",
       "    }\n",
       "\n",
       "    .dataframe tbody tr th {\n",
       "        vertical-align: top;\n",
       "    }\n",
       "\n",
       "    .dataframe thead th {\n",
       "        text-align: right;\n",
       "    }\n",
       "</style>\n",
       "<table border=\"1\" class=\"dataframe\">\n",
       "  <thead>\n",
       "    <tr style=\"text-align: right;\">\n",
       "      <th></th>\n",
       "      <th>attrition</th>\n",
       "      <th>performance_rating</th>\n",
       "      <th>sales_quota_pct</th>\n",
       "      <th>recruiting_source</th>\n",
       "    </tr>\n",
       "  </thead>\n",
       "  <tbody>\n",
       "    <tr>\n",
       "      <th>0</th>\n",
       "      <td>1</td>\n",
       "      <td>3</td>\n",
       "      <td>1.088190</td>\n",
       "      <td>Applied Online</td>\n",
       "    </tr>\n",
       "    <tr>\n",
       "      <th>1</th>\n",
       "      <td>0</td>\n",
       "      <td>3</td>\n",
       "      <td>2.394173</td>\n",
       "      <td>NaN</td>\n",
       "    </tr>\n",
       "    <tr>\n",
       "      <th>2</th>\n",
       "      <td>1</td>\n",
       "      <td>2</td>\n",
       "      <td>0.497530</td>\n",
       "      <td>Campus</td>\n",
       "    </tr>\n",
       "    <tr>\n",
       "      <th>3</th>\n",
       "      <td>0</td>\n",
       "      <td>2</td>\n",
       "      <td>2.513958</td>\n",
       "      <td>NaN</td>\n",
       "    </tr>\n",
       "    <tr>\n",
       "      <th>4</th>\n",
       "      <td>0</td>\n",
       "      <td>3</td>\n",
       "      <td>1.424789</td>\n",
       "      <td>Applied Online</td>\n",
       "    </tr>\n",
       "    <tr>\n",
       "      <th>...</th>\n",
       "      <td>...</td>\n",
       "      <td>...</td>\n",
       "      <td>...</td>\n",
       "      <td>...</td>\n",
       "    </tr>\n",
       "    <tr>\n",
       "      <th>441</th>\n",
       "      <td>0</td>\n",
       "      <td>3</td>\n",
       "      <td>1.627813</td>\n",
       "      <td>Campus</td>\n",
       "    </tr>\n",
       "    <tr>\n",
       "      <th>442</th>\n",
       "      <td>1</td>\n",
       "      <td>4</td>\n",
       "      <td>0.689682</td>\n",
       "      <td>Referral</td>\n",
       "    </tr>\n",
       "    <tr>\n",
       "      <th>443</th>\n",
       "      <td>0</td>\n",
       "      <td>4</td>\n",
       "      <td>1.196198</td>\n",
       "      <td>NaN</td>\n",
       "    </tr>\n",
       "    <tr>\n",
       "      <th>444</th>\n",
       "      <td>0</td>\n",
       "      <td>4</td>\n",
       "      <td>1.598213</td>\n",
       "      <td>Applied Online</td>\n",
       "    </tr>\n",
       "    <tr>\n",
       "      <th>445</th>\n",
       "      <td>0</td>\n",
       "      <td>2</td>\n",
       "      <td>0.582642</td>\n",
       "      <td>NaN</td>\n",
       "    </tr>\n",
       "  </tbody>\n",
       "</table>\n",
       "<p>446 rows × 4 columns</p>\n",
       "</div>"
      ],
      "text/plain": [
       "     attrition  performance_rating  sales_quota_pct recruiting_source\n",
       "0            1                   3         1.088190    Applied Online\n",
       "1            0                   3         2.394173               NaN\n",
       "2            1                   2         0.497530            Campus\n",
       "3            0                   2         2.513958               NaN\n",
       "4            0                   3         1.424789    Applied Online\n",
       "..         ...                 ...              ...               ...\n",
       "441          0                   3         1.627813            Campus\n",
       "442          1                   4         0.689682          Referral\n",
       "443          0                   4         1.196198               NaN\n",
       "444          0                   4         1.598213    Applied Online\n",
       "445          0                   2         0.582642               NaN\n",
       "\n",
       "[446 rows x 4 columns]"
      ]
     },
     "execution_count": 2,
     "metadata": {},
     "output_type": "execute_result"
    }
   ],
   "source": [
    "df=pd.read_csv(r\"C:\\My files\\Study\\MIT\\MentorMind\\10th Identify the best source of recruitment for a tech startup, based on previous data of candidate sources and recruitment strategies\\Recruitment_Data.csv\")\n",
    "df"
   ]
  },
  {
   "cell_type": "markdown",
   "id": "c6d0c5ce",
   "metadata": {},
   "source": [
    "# Data Preprocessing"
   ]
  },
  {
   "cell_type": "code",
   "execution_count": 3,
   "id": "42bc12e6",
   "metadata": {},
   "outputs": [
    {
     "name": "stdout",
     "output_type": "stream",
     "text": [
      "<class 'pandas.core.frame.DataFrame'>\n",
      "RangeIndex: 446 entries, 0 to 445\n",
      "Data columns (total 4 columns):\n",
      " #   Column              Non-Null Count  Dtype  \n",
      "---  ------              --------------  -----  \n",
      " 0   attrition           446 non-null    int64  \n",
      " 1   performance_rating  446 non-null    int64  \n",
      " 2   sales_quota_pct     446 non-null    float64\n",
      " 3   recruiting_source   241 non-null    object \n",
      "dtypes: float64(1), int64(2), object(1)\n",
      "memory usage: 14.1+ KB\n"
     ]
    }
   ],
   "source": [
    "df.info()"
   ]
  },
  {
   "cell_type": "code",
   "execution_count": 4,
   "id": "35c11534",
   "metadata": {},
   "outputs": [
    {
     "data": {
      "text/html": [
       "<div>\n",
       "<style scoped>\n",
       "    .dataframe tbody tr th:only-of-type {\n",
       "        vertical-align: middle;\n",
       "    }\n",
       "\n",
       "    .dataframe tbody tr th {\n",
       "        vertical-align: top;\n",
       "    }\n",
       "\n",
       "    .dataframe thead th {\n",
       "        text-align: right;\n",
       "    }\n",
       "</style>\n",
       "<table border=\"1\" class=\"dataframe\">\n",
       "  <thead>\n",
       "    <tr style=\"text-align: right;\">\n",
       "      <th></th>\n",
       "      <th>count</th>\n",
       "      <th>mean</th>\n",
       "      <th>std</th>\n",
       "      <th>min</th>\n",
       "      <th>25%</th>\n",
       "      <th>50%</th>\n",
       "      <th>75%</th>\n",
       "      <th>max</th>\n",
       "    </tr>\n",
       "  </thead>\n",
       "  <tbody>\n",
       "    <tr>\n",
       "      <th>attrition</th>\n",
       "      <td>446.0</td>\n",
       "      <td>0.213004</td>\n",
       "      <td>0.409891</td>\n",
       "      <td>0.000000</td>\n",
       "      <td>0.000000</td>\n",
       "      <td>0.000000</td>\n",
       "      <td>0.000000</td>\n",
       "      <td>1.00000</td>\n",
       "    </tr>\n",
       "    <tr>\n",
       "      <th>performance_rating</th>\n",
       "      <td>446.0</td>\n",
       "      <td>2.894619</td>\n",
       "      <td>0.683755</td>\n",
       "      <td>1.000000</td>\n",
       "      <td>2.000000</td>\n",
       "      <td>3.000000</td>\n",
       "      <td>3.000000</td>\n",
       "      <td>5.00000</td>\n",
       "    </tr>\n",
       "    <tr>\n",
       "      <th>sales_quota_pct</th>\n",
       "      <td>446.0</td>\n",
       "      <td>1.082607</td>\n",
       "      <td>0.710042</td>\n",
       "      <td>-0.710827</td>\n",
       "      <td>0.584444</td>\n",
       "      <td>1.070143</td>\n",
       "      <td>1.532488</td>\n",
       "      <td>3.66674</td>\n",
       "    </tr>\n",
       "  </tbody>\n",
       "</table>\n",
       "</div>"
      ],
      "text/plain": [
       "                    count      mean       std       min       25%       50%  \\\n",
       "attrition           446.0  0.213004  0.409891  0.000000  0.000000  0.000000   \n",
       "performance_rating  446.0  2.894619  0.683755  1.000000  2.000000  3.000000   \n",
       "sales_quota_pct     446.0  1.082607  0.710042 -0.710827  0.584444  1.070143   \n",
       "\n",
       "                         75%      max  \n",
       "attrition           0.000000  1.00000  \n",
       "performance_rating  3.000000  5.00000  \n",
       "sales_quota_pct     1.532488  3.66674  "
      ]
     },
     "execution_count": 4,
     "metadata": {},
     "output_type": "execute_result"
    }
   ],
   "source": [
    "df.describe().T"
   ]
  },
  {
   "cell_type": "code",
   "execution_count": 5,
   "id": "93017513",
   "metadata": {},
   "outputs": [
    {
     "data": {
      "text/plain": [
       "attrition             0.000000\n",
       "performance_rating    0.000000\n",
       "sales_quota_pct       0.000000\n",
       "recruiting_source     0.459641\n",
       "dtype: float64"
      ]
     },
     "execution_count": 5,
     "metadata": {},
     "output_type": "execute_result"
    }
   ],
   "source": [
    "df.isnull().sum()/len(df) #finding null values"
   ]
  },
  {
   "cell_type": "markdown",
   "id": "f6c858ef",
   "metadata": {},
   "source": [
    "sine we have 45% missing value we will create special categeory called missing "
   ]
  },
  {
   "cell_type": "code",
   "execution_count": 6,
   "id": "faa72abd",
   "metadata": {
    "scrolled": true
   },
   "outputs": [
    {
     "data": {
      "text/html": [
       "<div>\n",
       "<style scoped>\n",
       "    .dataframe tbody tr th:only-of-type {\n",
       "        vertical-align: middle;\n",
       "    }\n",
       "\n",
       "    .dataframe tbody tr th {\n",
       "        vertical-align: top;\n",
       "    }\n",
       "\n",
       "    .dataframe thead th {\n",
       "        text-align: right;\n",
       "    }\n",
       "</style>\n",
       "<table border=\"1\" class=\"dataframe\">\n",
       "  <thead>\n",
       "    <tr style=\"text-align: right;\">\n",
       "      <th></th>\n",
       "      <th>attrition</th>\n",
       "      <th>performance_rating</th>\n",
       "      <th>sales_quota_pct</th>\n",
       "      <th>recruiting_source</th>\n",
       "    </tr>\n",
       "  </thead>\n",
       "  <tbody>\n",
       "    <tr>\n",
       "      <th>0</th>\n",
       "      <td>1</td>\n",
       "      <td>3</td>\n",
       "      <td>1.088190</td>\n",
       "      <td>Applied Online</td>\n",
       "    </tr>\n",
       "    <tr>\n",
       "      <th>1</th>\n",
       "      <td>0</td>\n",
       "      <td>3</td>\n",
       "      <td>2.394173</td>\n",
       "      <td>missing</td>\n",
       "    </tr>\n",
       "    <tr>\n",
       "      <th>2</th>\n",
       "      <td>1</td>\n",
       "      <td>2</td>\n",
       "      <td>0.497530</td>\n",
       "      <td>Campus</td>\n",
       "    </tr>\n",
       "    <tr>\n",
       "      <th>3</th>\n",
       "      <td>0</td>\n",
       "      <td>2</td>\n",
       "      <td>2.513958</td>\n",
       "      <td>missing</td>\n",
       "    </tr>\n",
       "    <tr>\n",
       "      <th>4</th>\n",
       "      <td>0</td>\n",
       "      <td>3</td>\n",
       "      <td>1.424789</td>\n",
       "      <td>Applied Online</td>\n",
       "    </tr>\n",
       "    <tr>\n",
       "      <th>...</th>\n",
       "      <td>...</td>\n",
       "      <td>...</td>\n",
       "      <td>...</td>\n",
       "      <td>...</td>\n",
       "    </tr>\n",
       "    <tr>\n",
       "      <th>441</th>\n",
       "      <td>0</td>\n",
       "      <td>3</td>\n",
       "      <td>1.627813</td>\n",
       "      <td>Campus</td>\n",
       "    </tr>\n",
       "    <tr>\n",
       "      <th>442</th>\n",
       "      <td>1</td>\n",
       "      <td>4</td>\n",
       "      <td>0.689682</td>\n",
       "      <td>Referral</td>\n",
       "    </tr>\n",
       "    <tr>\n",
       "      <th>443</th>\n",
       "      <td>0</td>\n",
       "      <td>4</td>\n",
       "      <td>1.196198</td>\n",
       "      <td>missing</td>\n",
       "    </tr>\n",
       "    <tr>\n",
       "      <th>444</th>\n",
       "      <td>0</td>\n",
       "      <td>4</td>\n",
       "      <td>1.598213</td>\n",
       "      <td>Applied Online</td>\n",
       "    </tr>\n",
       "    <tr>\n",
       "      <th>445</th>\n",
       "      <td>0</td>\n",
       "      <td>2</td>\n",
       "      <td>0.582642</td>\n",
       "      <td>missing</td>\n",
       "    </tr>\n",
       "  </tbody>\n",
       "</table>\n",
       "<p>446 rows × 4 columns</p>\n",
       "</div>"
      ],
      "text/plain": [
       "     attrition  performance_rating  sales_quota_pct recruiting_source\n",
       "0            1                   3         1.088190    Applied Online\n",
       "1            0                   3         2.394173           missing\n",
       "2            1                   2         0.497530            Campus\n",
       "3            0                   2         2.513958           missing\n",
       "4            0                   3         1.424789    Applied Online\n",
       "..         ...                 ...              ...               ...\n",
       "441          0                   3         1.627813            Campus\n",
       "442          1                   4         0.689682          Referral\n",
       "443          0                   4         1.196198           missing\n",
       "444          0                   4         1.598213    Applied Online\n",
       "445          0                   2         0.582642           missing\n",
       "\n",
       "[446 rows x 4 columns]"
      ]
     },
     "execution_count": 6,
     "metadata": {},
     "output_type": "execute_result"
    }
   ],
   "source": [
    "df['recruiting_source'].fillna('missing',inplace=True)\n",
    "df"
   ]
  },
  {
   "cell_type": "code",
   "execution_count": 7,
   "id": "7b1e72d7",
   "metadata": {},
   "outputs": [
    {
     "data": {
      "text/plain": [
       "missing           205\n",
       "Applied Online    130\n",
       "Campus             56\n",
       "Referral           45\n",
       "Search Firm        10\n",
       "Name: recruiting_source, dtype: int64"
      ]
     },
     "execution_count": 7,
     "metadata": {},
     "output_type": "execute_result"
    }
   ],
   "source": [
    "df.recruiting_source.value_counts()"
   ]
  },
  {
   "cell_type": "markdown",
   "id": "25816378",
   "metadata": {},
   "source": [
    "# EDA"
   ]
  },
  {
   "cell_type": "code",
   "execution_count": 8,
   "id": "4ba9517b",
   "metadata": {},
   "outputs": [],
   "source": [
    "df_obj=list(df.select_dtypes(include=['object']).columns)\n"
   ]
  },
  {
   "cell_type": "code",
   "execution_count": 9,
   "id": "50f0989b",
   "metadata": {},
   "outputs": [],
   "source": [
    "for i in df_obj:\n",
    "    df[i]=df[i].astype('category')\n",
    "    "
   ]
  },
  {
   "cell_type": "code",
   "execution_count": 10,
   "id": "b3fc2f8f",
   "metadata": {},
   "outputs": [
    {
     "name": "stdout",
     "output_type": "stream",
     "text": [
      "<class 'pandas.core.frame.DataFrame'>\n",
      "RangeIndex: 446 entries, 0 to 445\n",
      "Data columns (total 4 columns):\n",
      " #   Column              Non-Null Count  Dtype   \n",
      "---  ------              --------------  -----   \n",
      " 0   attrition           446 non-null    int64   \n",
      " 1   performance_rating  446 non-null    int64   \n",
      " 2   sales_quota_pct     446 non-null    float64 \n",
      " 3   recruiting_source   446 non-null    category\n",
      "dtypes: category(1), float64(1), int64(2)\n",
      "memory usage: 11.2 KB\n"
     ]
    }
   ],
   "source": [
    "df.info()"
   ]
  },
  {
   "cell_type": "code",
   "execution_count": 11,
   "id": "e99a38b6",
   "metadata": {},
   "outputs": [
    {
     "data": {
      "text/html": [
       "<div>\n",
       "<style scoped>\n",
       "    .dataframe tbody tr th:only-of-type {\n",
       "        vertical-align: middle;\n",
       "    }\n",
       "\n",
       "    .dataframe tbody tr th {\n",
       "        vertical-align: top;\n",
       "    }\n",
       "\n",
       "    .dataframe thead th {\n",
       "        text-align: right;\n",
       "    }\n",
       "</style>\n",
       "<table border=\"1\" class=\"dataframe\">\n",
       "  <thead>\n",
       "    <tr style=\"text-align: right;\">\n",
       "      <th></th>\n",
       "      <th>attrition</th>\n",
       "      <th>performance_rating</th>\n",
       "      <th>sales_quota_pct</th>\n",
       "    </tr>\n",
       "  </thead>\n",
       "  <tbody>\n",
       "    <tr>\n",
       "      <th>attrition</th>\n",
       "      <td>1.000000</td>\n",
       "      <td>-0.023964</td>\n",
       "      <td>-0.044476</td>\n",
       "    </tr>\n",
       "    <tr>\n",
       "      <th>performance_rating</th>\n",
       "      <td>-0.023964</td>\n",
       "      <td>1.000000</td>\n",
       "      <td>-0.011210</td>\n",
       "    </tr>\n",
       "    <tr>\n",
       "      <th>sales_quota_pct</th>\n",
       "      <td>-0.044476</td>\n",
       "      <td>-0.011210</td>\n",
       "      <td>1.000000</td>\n",
       "    </tr>\n",
       "  </tbody>\n",
       "</table>\n",
       "</div>"
      ],
      "text/plain": [
       "                    attrition  performance_rating  sales_quota_pct\n",
       "attrition            1.000000           -0.023964        -0.044476\n",
       "performance_rating  -0.023964            1.000000        -0.011210\n",
       "sales_quota_pct     -0.044476           -0.011210         1.000000"
      ]
     },
     "execution_count": 11,
     "metadata": {},
     "output_type": "execute_result"
    }
   ],
   "source": [
    "df.corr()"
   ]
  },
  {
   "cell_type": "code",
   "execution_count": 12,
   "id": "e21b4985",
   "metadata": {},
   "outputs": [],
   "source": [
    "plot_column=['performance_rating','recruiting_source']"
   ]
  },
  {
   "cell_type": "code",
   "execution_count": 13,
   "id": "dd107e73",
   "metadata": {},
   "outputs": [
    {
     "data": {
      "image/png": "[encoded data removed]",
      "text/plain": [
       "<Figure size 2000x2500 with 2 Axes>"
      ]
     },
     "metadata": {},
     "output_type": "display_data"
    }
   ],
   "source": [
    "fig=plt.subplots(figsize=(20,25))\n",
    "for p,q in enumerate(plot_column):\n",
    "    plt.subplot(1,2,p+1)\n",
    "    plt.subplots_adjust(hspace=1)\n",
    "    sns.countplot(x=q,data=df,hue='attrition')\n",
    "    plt.xticks(rotation=27)"
   ]
  },
  {
   "cell_type": "code",
   "execution_count": 14,
   "id": "22feacb2",
   "metadata": {},
   "outputs": [
    {
     "data": {
      "text/plain": [
       "performance_rating\n",
       "1    0.428571\n",
       "3    0.216730\n",
       "4    0.208955\n",
       "2    0.198113\n",
       "5    0.000000\n",
       "Name: attrition, dtype: float64"
      ]
     },
     "execution_count": 14,
     "metadata": {},
     "output_type": "execute_result"
    }
   ],
   "source": [
    "df.groupby('performance_rating')['attrition'].agg(np.mean).sort_values(ascending=False)"
   ]
  },
  {
   "cell_type": "markdown",
   "id": "25c87788",
   "metadata": {},
   "source": [
    "## Those who has a 1 performancee rating have a greater attrition rate"
   ]
  },
  {
   "cell_type": "code",
   "execution_count": 15,
   "id": "0394c64c",
   "metadata": {},
   "outputs": [
    {
     "data": {
      "text/plain": [
       "recruiting_source\n",
       "Search Firm       0.500000\n",
       "Referral          0.333333\n",
       "Campus            0.285714\n",
       "Applied Online    0.246154\n",
       "missing           0.131707\n",
       "Name: attrition, dtype: float64"
      ]
     },
     "execution_count": 15,
     "metadata": {},
     "output_type": "execute_result"
    }
   ],
   "source": [
    "# Print out the average Attrition Number grouped by Recruiting Source\n",
    "df.groupby('recruiting_source')['attrition'].agg(np.mean).sort_values(ascending=False)"
   ]
  },
  {
   "cell_type": "markdown",
   "id": "47d2fc4c",
   "metadata": {},
   "source": [
    "surprisingly missing recruting source has less attrition rate , as we are unaware about exact missing recruiting source we have to choose Applied online as best recruiting source because it has less attrition rate ,HRTEAM MUST be carefull while recruiting through search firm due to high attrition rate"
   ]
  },
  {
   "cell_type": "code",
   "execution_count": 16,
   "id": "6c8d7d7a",
   "metadata": {},
   "outputs": [
    {
     "data": {
      "text/plain": [
       "recruiting_source\n",
       "Applied Online    2.930769\n",
       "Campus            2.928571\n",
       "missing           2.882927\n",
       "Referral          2.844444\n",
       "Search Firm       2.700000\n",
       "Name: performance_rating, dtype: float64"
      ]
     },
     "execution_count": 16,
     "metadata": {},
     "output_type": "execute_result"
    }
   ],
   "source": [
    "df.groupby('recruiting_source')['performance_rating'].agg(np.mean).sort_values(ascending=False)"
   ]
  },
  {
   "cell_type": "markdown",
   "id": "378fdfa4",
   "metadata": {},
   "source": [
    "The candidate which had recruited through Appled online has more performance rating,and those who were recruited through search firm has low performance rating"
   ]
  },
  {
   "cell_type": "markdown",
   "id": "3b8dd2ed",
   "metadata": {},
   "source": [
    "## Print out the average Sales Number grouped by Recruiting Source "
   ]
  },
  {
   "cell_type": "code",
   "execution_count": 17,
   "id": "35efcc4c",
   "metadata": {},
   "outputs": [
    {
     "data": {
      "text/plain": [
       "recruiting_source\n",
       "missing           1.168109\n",
       "Applied Online    1.058590\n",
       "Referral          1.023198\n",
       "Campus            0.908035\n",
       "Search Firm       0.886960\n",
       "Name: sales_quota_pct, dtype: float64"
      ]
     },
     "execution_count": 17,
     "metadata": {},
     "output_type": "execute_result"
    }
   ],
   "source": [
    "df.groupby('recruiting_source')['sales_quota_pct'].agg(np.mean).sort_values(ascending=False)"
   ]
  },
  {
   "cell_type": "markdown",
   "id": "12d060ce",
   "metadata": {},
   "source": [
    "- those who was recruited from Applied online source has a great sale number and low attrition rate..\n",
    "    "
   ]
  },
  {
   "cell_type": "code",
   "execution_count": 18,
   "id": "22b058cf",
   "metadata": {},
   "outputs": [
    {
     "name": "stdout",
     "output_type": "stream",
     "text": [
      "Defaulting to user installation because normal site-packages is not writeable\n",
      "Requirement already satisfied: ggplot in c:\\users\\sachin's world\\appdata\\roaming\\python\\python39\\site-packages (0.11.5)\n",
      "Requirement already satisfied: six in c:\\anaconda\\lib\\site-packages (from ggplot) (1.16.0)\n",
      "Requirement already satisfied: matplotlib in c:\\anaconda\\lib\\site-packages (from ggplot) (3.5.2)\n",
      "Requirement already satisfied: cycler in c:\\anaconda\\lib\\site-packages (from ggplot) (0.11.0)\n",
      "Requirement already satisfied: brewer2mpl in c:\\users\\sachin's world\\appdata\\roaming\\python\\python39\\site-packages (from ggplot) (1.4.1)\n",
      "Requirement already satisfied: pandas in c:\\anaconda\\lib\\site-packages (from ggplot) (1.4.4)\n",
      "Requirement already satisfied: statsmodels in c:\\anaconda\\lib\\site-packages (from ggplot) (0.13.2)\n",
      "Requirement already satisfied: patsy>=0.4 in c:\\anaconda\\lib\\site-packages (from ggplot) (0.5.2)\n",
      "Requirement already satisfied: scipy in c:\\anaconda\\lib\\site-packages (from ggplot) (1.9.1)\n",
      "Requirement already satisfied: numpy in c:\\anaconda\\lib\\site-packages (from ggplot) (1.21.5)\n",
      "Requirement already satisfied: fonttools>=4.22.0 in c:\\anaconda\\lib\\site-packages (from matplotlib->ggplot) (4.25.0)\n",
      "Requirement already satisfied: packaging>=20.0 in c:\\anaconda\\lib\\site-packages (from matplotlib->ggplot) (21.3)\n",
      "Requirement already satisfied: pillow>=6.2.0 in c:\\anaconda\\lib\\site-packages (from matplotlib->ggplot) (9.2.0)\n",
      "Requirement already satisfied: python-dateutil>=2.7 in c:\\anaconda\\lib\\site-packages (from matplotlib->ggplot) (2.8.2)\n",
      "Requirement already satisfied: kiwisolver>=1.0.1 in c:\\anaconda\\lib\\site-packages (from matplotlib->ggplot) (1.4.2)\n",
      "Requirement already satisfied: pyparsing>=2.2.1 in c:\\anaconda\\lib\\site-packages (from matplotlib->ggplot) (3.0.9)\n",
      "Requirement already satisfied: pytz>=2020.1 in c:\\anaconda\\lib\\site-packages (from pandas->ggplot) (2022.1)\n"
     ]
    }
   ],
   "source": [
    "! pip install ggplot\n"
   ]
  },
  {
   "cell_type": "code",
   "execution_count": 19,
   "id": "8be3c496",
   "metadata": {},
   "outputs": [
    {
     "name": "stdout",
     "output_type": "stream",
     "text": [
      "Defaulting to user installation because normal site-packages is not writeable\n",
      "Requirement already satisfied: pandas in c:\\anaconda\\lib\\site-packages (1.4.4)\n",
      "Requirement already satisfied: plotnine in c:\\users\\sachin's world\\appdata\\roaming\\python\\python39\\site-packages (0.10.1)\n",
      "Requirement already satisfied: numpy>=1.18.5 in c:\\anaconda\\lib\\site-packages (from pandas) (1.21.5)\n",
      "Requirement already satisfied: python-dateutil>=2.8.1 in c:\\anaconda\\lib\\site-packages (from pandas) (2.8.2)\n",
      "Requirement already satisfied: pytz>=2020.1 in c:\\anaconda\\lib\\site-packages (from pandas) (2022.1)\n",
      "Requirement already satisfied: patsy>=0.5.1 in c:\\anaconda\\lib\\site-packages (from plotnine) (0.5.2)\n",
      "Requirement already satisfied: statsmodels>=0.13.2 in c:\\anaconda\\lib\\site-packages (from plotnine) (0.13.2)\n",
      "Requirement already satisfied: matplotlib>=3.5.0 in c:\\anaconda\\lib\\site-packages (from plotnine) (3.5.2)\n",
      "Requirement already satisfied: scipy>=1.5.0 in c:\\anaconda\\lib\\site-packages (from plotnine) (1.9.1)\n",
      "Requirement already satisfied: mizani>=0.8.1 in c:\\users\\sachin's world\\appdata\\roaming\\python\\python39\\site-packages (from plotnine) (0.8.1)\n",
      "Requirement already satisfied: pillow>=6.2.0 in c:\\anaconda\\lib\\site-packages (from matplotlib>=3.5.0->plotnine) (9.2.0)\n",
      "Requirement already satisfied: fonttools>=4.22.0 in c:\\anaconda\\lib\\site-packages (from matplotlib>=3.5.0->plotnine) (4.25.0)\n",
      "Requirement already satisfied: cycler>=0.10 in c:\\anaconda\\lib\\site-packages (from matplotlib>=3.5.0->plotnine) (0.11.0)\n",
      "Requirement already satisfied: packaging>=20.0 in c:\\anaconda\\lib\\site-packages (from matplotlib>=3.5.0->plotnine) (21.3)\n",
      "Requirement already satisfied: kiwisolver>=1.0.1 in c:\\anaconda\\lib\\site-packages (from matplotlib>=3.5.0->plotnine) (1.4.2)\n",
      "Requirement already satisfied: pyparsing>=2.2.1 in c:\\anaconda\\lib\\site-packages (from matplotlib>=3.5.0->plotnine) (3.0.9)\n",
      "Requirement already satisfied: palettable in c:\\users\\sachin's world\\appdata\\roaming\\python\\python39\\site-packages (from mizani>=0.8.1->plotnine) (3.3.0)\n",
      "Requirement already satisfied: tzdata in c:\\users\\sachin's world\\appdata\\roaming\\python\\python39\\site-packages (from mizani>=0.8.1->plotnine) (2023.3)\n",
      "Requirement already satisfied: six in c:\\anaconda\\lib\\site-packages (from patsy>=0.5.1->plotnine) (1.16.0)\n"
     ]
    }
   ],
   "source": [
    "!pip install pandas plotnine"
   ]
  },
  {
   "cell_type": "code",
   "execution_count": 20,
   "id": "b89c741e",
   "metadata": {
    "scrolled": true
   },
   "outputs": [
    {
     "data": {
      "image/png": "[encoded data removed]",
      "text/plain": [
       "<Figure size 640x480 with 1 Axes>"
      ]
     },
     "metadata": {},
     "output_type": "display_data"
    },
    {
     "data": {
      "text/plain": [
       "<ggplot: (173269945814)>"
      ]
     },
     "execution_count": 20,
     "metadata": {},
     "output_type": "execute_result"
    }
   ],
   "source": [
    "from plotnine import *\n",
    "\n",
    "%matplotlib inline\n",
    "ggplot(df, aes(x='recruiting_source')) + \\\n",
    "    geom_bar(stat = 'count')"
   ]
  },
  {
   "cell_type": "code",
   "execution_count": 21,
   "id": "89fe5049",
   "metadata": {},
   "outputs": [
    {
     "data": {
      "image/png": "[encoded data removed]",
      "text/plain": [
       "<Figure size 640x480 with 1 Axes>"
      ]
     },
     "metadata": {},
     "output_type": "display_data"
    },
    {
     "data": {
      "text/plain": [
       "<ggplot: (173270003637)>"
      ]
     },
     "execution_count": 21,
     "metadata": {},
     "output_type": "execute_result"
    }
   ],
   "source": [
    "ggplot(df, aes(x='recruiting_source', fill = 'attrition')) + \\\n",
    "    geom_bar(stat = 'count')"
   ]
  },
  {
   "cell_type": "code",
   "execution_count": 22,
   "id": "f1909969",
   "metadata": {},
   "outputs": [
    {
     "data": {
      "image/png": "[encoded data removed]",
      "text/plain": [
       "<Figure size 640x480 with 1 Axes>"
      ]
     },
     "metadata": {},
     "output_type": "display_data"
    },
    {
     "data": {
      "text/plain": [
       "<ggplot: (173271180496)>"
      ]
     },
     "execution_count": 22,
     "metadata": {},
     "output_type": "execute_result"
    }
   ],
   "source": [
    "plt2 = ggplot(df, aes(x='recruiting_source', y='sales_quota_pct')) + \\\n",
    "           geom_boxplot()\n",
    "plt2"
   ]
  },
  {
   "cell_type": "code",
   "execution_count": 23,
   "id": "38a88a7e",
   "metadata": {},
   "outputs": [
    {
     "data": {
      "image/png": "[encoded data removed]",
      "text/plain": [
       "<Figure size 640x480 with 1 Axes>"
      ]
     },
     "metadata": {},
     "output_type": "display_data"
    },
    {
     "data": {
      "text/plain": [
       "<ggplot: (173271140605)>"
      ]
     },
     "execution_count": 23,
     "metadata": {},
     "output_type": "execute_result"
    }
   ],
   "source": [
    "ggplot(df, aes(x='recruiting_source', y='sales_quota_pct', \n",
    "    size = 'performance_rating', color = 'attrition')) + geom_point()"
   ]
  },
  {
   "cell_type": "code",
   "execution_count": 24,
   "id": "f409ef0d",
   "metadata": {},
   "outputs": [
    {
     "data": {
      "text/html": [
       "<div>\n",
       "<style scoped>\n",
       "    .dataframe tbody tr th:only-of-type {\n",
       "        vertical-align: middle;\n",
       "    }\n",
       "\n",
       "    .dataframe tbody tr th {\n",
       "        vertical-align: top;\n",
       "    }\n",
       "\n",
       "    .dataframe thead th {\n",
       "        text-align: right;\n",
       "    }\n",
       "</style>\n",
       "<table border=\"1\" class=\"dataframe\">\n",
       "  <thead>\n",
       "    <tr style=\"text-align: right;\">\n",
       "      <th></th>\n",
       "      <th>attrition</th>\n",
       "      <th>performance_rating</th>\n",
       "      <th>sales_quota_pct</th>\n",
       "      <th>recruiting_source_Campus</th>\n",
       "      <th>recruiting_source_Referral</th>\n",
       "      <th>recruiting_source_Search Firm</th>\n",
       "      <th>recruiting_source_missing</th>\n",
       "    </tr>\n",
       "  </thead>\n",
       "  <tbody>\n",
       "    <tr>\n",
       "      <th>0</th>\n",
       "      <td>1</td>\n",
       "      <td>3</td>\n",
       "      <td>1.088190</td>\n",
       "      <td>0</td>\n",
       "      <td>0</td>\n",
       "      <td>0</td>\n",
       "      <td>0</td>\n",
       "    </tr>\n",
       "    <tr>\n",
       "      <th>1</th>\n",
       "      <td>0</td>\n",
       "      <td>3</td>\n",
       "      <td>2.394173</td>\n",
       "      <td>0</td>\n",
       "      <td>0</td>\n",
       "      <td>0</td>\n",
       "      <td>1</td>\n",
       "    </tr>\n",
       "    <tr>\n",
       "      <th>2</th>\n",
       "      <td>1</td>\n",
       "      <td>2</td>\n",
       "      <td>0.497530</td>\n",
       "      <td>1</td>\n",
       "      <td>0</td>\n",
       "      <td>0</td>\n",
       "      <td>0</td>\n",
       "    </tr>\n",
       "    <tr>\n",
       "      <th>3</th>\n",
       "      <td>0</td>\n",
       "      <td>2</td>\n",
       "      <td>2.513958</td>\n",
       "      <td>0</td>\n",
       "      <td>0</td>\n",
       "      <td>0</td>\n",
       "      <td>1</td>\n",
       "    </tr>\n",
       "    <tr>\n",
       "      <th>4</th>\n",
       "      <td>0</td>\n",
       "      <td>3</td>\n",
       "      <td>1.424789</td>\n",
       "      <td>0</td>\n",
       "      <td>0</td>\n",
       "      <td>0</td>\n",
       "      <td>0</td>\n",
       "    </tr>\n",
       "    <tr>\n",
       "      <th>...</th>\n",
       "      <td>...</td>\n",
       "      <td>...</td>\n",
       "      <td>...</td>\n",
       "      <td>...</td>\n",
       "      <td>...</td>\n",
       "      <td>...</td>\n",
       "      <td>...</td>\n",
       "    </tr>\n",
       "    <tr>\n",
       "      <th>441</th>\n",
       "      <td>0</td>\n",
       "      <td>3</td>\n",
       "      <td>1.627813</td>\n",
       "      <td>1</td>\n",
       "      <td>0</td>\n",
       "      <td>0</td>\n",
       "      <td>0</td>\n",
       "    </tr>\n",
       "    <tr>\n",
       "      <th>442</th>\n",
       "      <td>1</td>\n",
       "      <td>4</td>\n",
       "      <td>0.689682</td>\n",
       "      <td>0</td>\n",
       "      <td>1</td>\n",
       "      <td>0</td>\n",
       "      <td>0</td>\n",
       "    </tr>\n",
       "    <tr>\n",
       "      <th>443</th>\n",
       "      <td>0</td>\n",
       "      <td>4</td>\n",
       "      <td>1.196198</td>\n",
       "      <td>0</td>\n",
       "      <td>0</td>\n",
       "      <td>0</td>\n",
       "      <td>1</td>\n",
       "    </tr>\n",
       "    <tr>\n",
       "      <th>444</th>\n",
       "      <td>0</td>\n",
       "      <td>4</td>\n",
       "      <td>1.598213</td>\n",
       "      <td>0</td>\n",
       "      <td>0</td>\n",
       "      <td>0</td>\n",
       "      <td>0</td>\n",
       "    </tr>\n",
       "    <tr>\n",
       "      <th>445</th>\n",
       "      <td>0</td>\n",
       "      <td>2</td>\n",
       "      <td>0.582642</td>\n",
       "      <td>0</td>\n",
       "      <td>0</td>\n",
       "      <td>0</td>\n",
       "      <td>1</td>\n",
       "    </tr>\n",
       "  </tbody>\n",
       "</table>\n",
       "<p>446 rows × 7 columns</p>\n",
       "</div>"
      ],
      "text/plain": [
       "     attrition  performance_rating  sales_quota_pct  recruiting_source_Campus  \\\n",
       "0            1                   3         1.088190                         0   \n",
       "1            0                   3         2.394173                         0   \n",
       "2            1                   2         0.497530                         1   \n",
       "3            0                   2         2.513958                         0   \n",
       "4            0                   3         1.424789                         0   \n",
       "..         ...                 ...              ...                       ...   \n",
       "441          0                   3         1.627813                         1   \n",
       "442          1                   4         0.689682                         0   \n",
       "443          0                   4         1.196198                         0   \n",
       "444          0                   4         1.598213                         0   \n",
       "445          0                   2         0.582642                         0   \n",
       "\n",
       "     recruiting_source_Referral  recruiting_source_Search Firm  \\\n",
       "0                             0                              0   \n",
       "1                             0                              0   \n",
       "2                             0                              0   \n",
       "3                             0                              0   \n",
       "4                             0                              0   \n",
       "..                          ...                            ...   \n",
       "441                           0                              0   \n",
       "442                           1                              0   \n",
       "443                           0                              0   \n",
       "444                           0                              0   \n",
       "445                           0                              0   \n",
       "\n",
       "     recruiting_source_missing  \n",
       "0                            0  \n",
       "1                            1  \n",
       "2                            0  \n",
       "3                            1  \n",
       "4                            0  \n",
       "..                         ...  \n",
       "441                          0  \n",
       "442                          0  \n",
       "443                          1  \n",
       "444                          0  \n",
       "445                          1  \n",
       "\n",
       "[446 rows x 7 columns]"
      ]
     },
     "execution_count": 24,
     "metadata": {},
     "output_type": "execute_result"
    }
   ],
   "source": [
    "cat_col=['recruiting_source']\n",
    "df=pd.get_dummies(df,columns=cat_col,drop_first=True)\n",
    "df"
   ]
  },
  {
   "cell_type": "markdown",
   "id": "d2008766",
   "metadata": {},
   "source": [
    "# Model Building\n",
    "## Model 1: Logistic Regression"
   ]
  },
  {
   "cell_type": "code",
   "execution_count": 25,
   "id": "b582466c",
   "metadata": {},
   "outputs": [],
   "source": [
    "#Indentifying target variable,Here Y is target varibale and X is input variable\n",
    "Y=df[['attrition']]\n",
    "X=df.drop(columns=['attrition'])"
   ]
  },
  {
   "cell_type": "code",
   "execution_count": 26,
   "id": "95b1f8aa",
   "metadata": {},
   "outputs": [],
   "source": [
    "from sklearn.model_selection import train_test_split\n",
    "x_train,x_test,y_train,y_test=train_test_split(X,Y,train_size=0.70,random_state=42)"
   ]
  },
  {
   "cell_type": "code",
   "execution_count": 27,
   "id": "44ce2298",
   "metadata": {},
   "outputs": [
    {
     "data": {
      "text/plain": [
       "(312, 312, 134, 134)"
      ]
     },
     "execution_count": 27,
     "metadata": {},
     "output_type": "execute_result"
    }
   ],
   "source": [
    "len(x_train),len(y_train),len(x_test),len(y_test)"
   ]
  },
  {
   "cell_type": "code",
   "execution_count": 28,
   "id": "ae0aa806",
   "metadata": {},
   "outputs": [],
   "source": [
    "from sklearn.linear_model import LogisticRegression\n",
    "lr=LogisticRegression()"
   ]
  },
  {
   "cell_type": "code",
   "execution_count": 29,
   "id": "5ab80aec",
   "metadata": {},
   "outputs": [],
   "source": [
    "model=lr.fit(x_train,y_train)"
   ]
  },
  {
   "cell_type": "code",
   "execution_count": 30,
   "id": "efabb6db",
   "metadata": {},
   "outputs": [
    {
     "data": {
      "text/plain": [
       "0.782051282051282"
      ]
     },
     "execution_count": 30,
     "metadata": {},
     "output_type": "execute_result"
    }
   ],
   "source": [
    "model.score(x_train,y_train)"
   ]
  },
  {
   "cell_type": "code",
   "execution_count": 31,
   "id": "67b6d5c8",
   "metadata": {},
   "outputs": [
    {
     "data": {
      "text/plain": [
       "0.7835820895522388"
      ]
     },
     "execution_count": 31,
     "metadata": {},
     "output_type": "execute_result"
    }
   ],
   "source": [
    "model.score(x_test,y_test)"
   ]
  },
  {
   "cell_type": "code",
   "execution_count": 32,
   "id": "7dc1f9d7",
   "metadata": {},
   "outputs": [],
   "source": [
    "y_test['attrition_prediction']=model.predict(x_test)"
   ]
  },
  {
   "cell_type": "markdown",
   "id": "c96ddbe2",
   "metadata": {},
   "source": [
    "Evaluating the model"
   ]
  },
  {
   "cell_type": "code",
   "execution_count": 33,
   "id": "32264ee0",
   "metadata": {},
   "outputs": [],
   "source": [
    "from sklearn.metrics import classification_report,confusion_matrix,accuracy_score\n",
    "accuracy_score=accuracy_score(y_test['attrition'],y_test['attrition_prediction'])"
   ]
  },
  {
   "cell_type": "code",
   "execution_count": 34,
   "id": "6c5e3418",
   "metadata": {},
   "outputs": [
    {
     "data": {
      "text/plain": [
       "0.7835820895522388"
      ]
     },
     "execution_count": 34,
     "metadata": {},
     "output_type": "execute_result"
    }
   ],
   "source": [
    "accuracy_score"
   ]
  },
  {
   "cell_type": "code",
   "execution_count": 35,
   "id": "64fed213",
   "metadata": {},
   "outputs": [
    {
     "name": "stdout",
     "output_type": "stream",
     "text": [
      "[[105   1]\n",
      " [ 28   0]]\n"
     ]
    }
   ],
   "source": [
    "print(confusion_matrix(y_test['attrition'],y_test['attrition_prediction']))"
   ]
  },
  {
   "cell_type": "markdown",
   "id": "e7b146fe",
   "metadata": {},
   "source": [
    "as TP =0 model is not predicting attrition very well"
   ]
  },
  {
   "cell_type": "code",
   "execution_count": 36,
   "id": "619769dc",
   "metadata": {},
   "outputs": [
    {
     "name": "stdout",
     "output_type": "stream",
     "text": [
      "              precision    recall  f1-score   support\n",
      "\n",
      "           0       0.79      0.99      0.88       106\n",
      "           1       0.00      0.00      0.00        28\n",
      "\n",
      "    accuracy                           0.78       134\n",
      "   macro avg       0.39      0.50      0.44       134\n",
      "weighted avg       0.62      0.78      0.70       134\n",
      "\n"
     ]
    }
   ],
   "source": [
    "print(classification_report(y_test['attrition'],y_test['attrition_prediction']))"
   ]
  },
  {
   "cell_type": "markdown",
   "id": "80b110ab",
   "metadata": {},
   "source": [
    "## there is highly imbalance in data as model is not predicting attrition rate correctly <br>\n",
    "### so to handle this we are using smote"
   ]
  },
  {
   "cell_type": "code",
   "execution_count": 37,
   "id": "13e596b1",
   "metadata": {},
   "outputs": [
    {
     "data": {
      "text/plain": [
       "0    351\n",
       "1     95\n",
       "Name: attrition, dtype: int64"
      ]
     },
     "execution_count": 37,
     "metadata": {},
     "output_type": "execute_result"
    }
   ],
   "source": [
    "df['attrition'].value_counts()"
   ]
  },
  {
   "cell_type": "code",
   "execution_count": 38,
   "id": "19efe416",
   "metadata": {},
   "outputs": [
    {
     "data": {
      "text/plain": [
       "attrition\n",
       "0            245\n",
       "1             67\n",
       "dtype: int64"
      ]
     },
     "execution_count": 38,
     "metadata": {},
     "output_type": "execute_result"
    }
   ],
   "source": [
    "y_train.value_counts()"
   ]
  },
  {
   "cell_type": "code",
   "execution_count": 39,
   "id": "86a1dbc4",
   "metadata": {},
   "outputs": [
    {
     "name": "stdout",
     "output_type": "stream",
     "text": [
      "Defaulting to user installation because normal site-packages is not writeable\n",
      "Requirement already satisfied: imblearn in c:\\users\\sachin's world\\appdata\\roaming\\python\\python39\\site-packages (0.0)\n",
      "Requirement already satisfied: imbalanced-learn in c:\\users\\sachin's world\\appdata\\roaming\\python\\python39\\site-packages (from imblearn) (0.10.1)\n",
      "Requirement already satisfied: scipy>=1.3.2 in c:\\anaconda\\lib\\site-packages (from imbalanced-learn->imblearn) (1.9.1)\n",
      "Requirement already satisfied: scikit-learn>=1.0.2 in c:\\anaconda\\lib\\site-packages (from imbalanced-learn->imblearn) (1.0.2)\n",
      "Requirement already satisfied: threadpoolctl>=2.0.0 in c:\\anaconda\\lib\\site-packages (from imbalanced-learn->imblearn) (2.2.0)\n",
      "Requirement already satisfied: joblib>=1.1.1 in c:\\users\\sachin's world\\appdata\\roaming\\python\\python39\\site-packages (from imbalanced-learn->imblearn) (1.2.0)\n",
      "Requirement already satisfied: numpy>=1.17.3 in c:\\anaconda\\lib\\site-packages (from imbalanced-learn->imblearn) (1.21.5)\n"
     ]
    }
   ],
   "source": [
    "! pip install imblearn"
   ]
  },
  {
   "cell_type": "code",
   "execution_count": 54,
   "id": "a2822a4a",
   "metadata": {},
   "outputs": [],
   "source": [
    "from imblearn.over_sampling import SMOTE \n",
    "sm= SMOTE()"
   ]
  },
  {
   "cell_type": "code",
   "execution_count": 41,
   "id": "f93d8228",
   "metadata": {},
   "outputs": [],
   "source": [
    "x_train_new,y_train_new=sm.fit_resample(x_train,y_train)"
   ]
  },
  {
   "cell_type": "code",
   "execution_count": 42,
   "id": "3eaabf8b",
   "metadata": {},
   "outputs": [
    {
     "data": {
      "text/plain": [
       "attrition\n",
       "0            245\n",
       "1            245\n",
       "dtype: int64"
      ]
     },
     "execution_count": 42,
     "metadata": {},
     "output_type": "execute_result"
    }
   ],
   "source": [
    "y_train_new.value_counts()"
   ]
  },
  {
   "cell_type": "code",
   "execution_count": 43,
   "id": "b63fcc31",
   "metadata": {},
   "outputs": [],
   "source": [
    "lr_smote=LogisticRegression()"
   ]
  },
  {
   "cell_type": "code",
   "execution_count": 44,
   "id": "330a3f52",
   "metadata": {},
   "outputs": [],
   "source": [
    "model_lr=lr_smote.fit(x_train_new,y_train_new)"
   ]
  },
  {
   "cell_type": "code",
   "execution_count": 45,
   "id": "86723b08",
   "metadata": {},
   "outputs": [],
   "source": [
    "y_test['attrition_prediction_smote']=model_lr.predict(x_test)"
   ]
  },
  {
   "cell_type": "code",
   "execution_count": 47,
   "id": "061b5f0c",
   "metadata": {},
   "outputs": [
    {
     "data": {
      "text/plain": [
       "284    0\n",
       "358    1\n",
       "117    0\n",
       "423    1\n",
       "70     0\n",
       "      ..\n",
       "153    0\n",
       "131    0\n",
       "26     0\n",
       "7      0\n",
       "405    0\n",
       "Name: attrition, Length: 134, dtype: int64"
      ]
     },
     "execution_count": 47,
     "metadata": {},
     "output_type": "execute_result"
    }
   ],
   "source": [
    "y_test['attrition']"
   ]
  },
  {
   "cell_type": "code",
   "execution_count": 48,
   "id": "5851055b",
   "metadata": {},
   "outputs": [
    {
     "data": {
      "text/plain": [
       "284    0\n",
       "358    0\n",
       "117    0\n",
       "423    1\n",
       "70     1\n",
       "      ..\n",
       "153    0\n",
       "131    0\n",
       "26     0\n",
       "7      1\n",
       "405    1\n",
       "Name: attrition_prediction_smote, Length: 134, dtype: int64"
      ]
     },
     "execution_count": 48,
     "metadata": {},
     "output_type": "execute_result"
    }
   ],
   "source": [
    "y_test['attrition_prediction_smote']"
   ]
  },
  {
   "cell_type": "code",
   "execution_count": 49,
   "id": "1e9d820d",
   "metadata": {},
   "outputs": [
    {
     "name": "stdout",
     "output_type": "stream",
     "text": [
      "[[67 39]\n",
      " [13 15]]\n"
     ]
    }
   ],
   "source": [
    "print(confusion_matrix(y_test['attrition'],y_test['attrition_prediction_smote']))"
   ]
  },
  {
   "cell_type": "code",
   "execution_count": 50,
   "id": "0b9ceafa",
   "metadata": {},
   "outputs": [
    {
     "name": "stdout",
     "output_type": "stream",
     "text": [
      "              precision    recall  f1-score   support\n",
      "\n",
      "           0       0.84      0.63      0.72       106\n",
      "           1       0.28      0.54      0.37        28\n",
      "\n",
      "    accuracy                           0.61       134\n",
      "   macro avg       0.56      0.58      0.54       134\n",
      "weighted avg       0.72      0.61      0.65       134\n",
      "\n"
     ]
    }
   ],
   "source": [
    "print(classification_report(y_test['attrition'],y_test['attrition_prediction_smote']))"
   ]
  },
  {
   "cell_type": "markdown",
   "id": "962c02e5",
   "metadata": {},
   "source": [
    "# Recall(TPR,sensititvity =(TP)/(TP+FN) is more imporant in attrittion Business perspective domain and we achieved quiet low value of FN i.e.12 \n",
    "### collectively this model is not bad though we will check further algorithms like SVC,naive bayes ,decision tree ,random forest algorithm <br>\n",
    "### Logistic Regression gives 61% accuracy"
   ]
  },
  {
   "cell_type": "markdown",
   "id": "558f2585",
   "metadata": {},
   "source": [
    "# Model 2 :Support vector classification Algorithm"
   ]
  },
  {
   "cell_type": "code",
   "execution_count": 59,
   "id": "07c0cd1e",
   "metadata": {},
   "outputs": [
    {
     "data": {
      "text/html": [
       "<div>\n",
       "<style scoped>\n",
       "    .dataframe tbody tr th:only-of-type {\n",
       "        vertical-align: middle;\n",
       "    }\n",
       "\n",
       "    .dataframe tbody tr th {\n",
       "        vertical-align: top;\n",
       "    }\n",
       "\n",
       "    .dataframe thead th {\n",
       "        text-align: right;\n",
       "    }\n",
       "</style>\n",
       "<table border=\"1\" class=\"dataframe\">\n",
       "  <thead>\n",
       "    <tr style=\"text-align: right;\">\n",
       "      <th></th>\n",
       "      <th>performance_rating</th>\n",
       "      <th>sales_quota_pct</th>\n",
       "      <th>recruiting_source_Campus</th>\n",
       "      <th>recruiting_source_Referral</th>\n",
       "      <th>recruiting_source_Search Firm</th>\n",
       "      <th>recruiting_source_missing</th>\n",
       "    </tr>\n",
       "  </thead>\n",
       "  <tbody>\n",
       "    <tr>\n",
       "      <th>0</th>\n",
       "      <td>3</td>\n",
       "      <td>1.088190</td>\n",
       "      <td>0</td>\n",
       "      <td>0</td>\n",
       "      <td>0</td>\n",
       "      <td>0</td>\n",
       "    </tr>\n",
       "    <tr>\n",
       "      <th>1</th>\n",
       "      <td>3</td>\n",
       "      <td>2.394173</td>\n",
       "      <td>0</td>\n",
       "      <td>0</td>\n",
       "      <td>0</td>\n",
       "      <td>1</td>\n",
       "    </tr>\n",
       "    <tr>\n",
       "      <th>2</th>\n",
       "      <td>2</td>\n",
       "      <td>0.497530</td>\n",
       "      <td>1</td>\n",
       "      <td>0</td>\n",
       "      <td>0</td>\n",
       "      <td>0</td>\n",
       "    </tr>\n",
       "    <tr>\n",
       "      <th>3</th>\n",
       "      <td>2</td>\n",
       "      <td>2.513958</td>\n",
       "      <td>0</td>\n",
       "      <td>0</td>\n",
       "      <td>0</td>\n",
       "      <td>1</td>\n",
       "    </tr>\n",
       "    <tr>\n",
       "      <th>4</th>\n",
       "      <td>3</td>\n",
       "      <td>1.424789</td>\n",
       "      <td>0</td>\n",
       "      <td>0</td>\n",
       "      <td>0</td>\n",
       "      <td>0</td>\n",
       "    </tr>\n",
       "    <tr>\n",
       "      <th>...</th>\n",
       "      <td>...</td>\n",
       "      <td>...</td>\n",
       "      <td>...</td>\n",
       "      <td>...</td>\n",
       "      <td>...</td>\n",
       "      <td>...</td>\n",
       "    </tr>\n",
       "    <tr>\n",
       "      <th>441</th>\n",
       "      <td>3</td>\n",
       "      <td>1.627813</td>\n",
       "      <td>1</td>\n",
       "      <td>0</td>\n",
       "      <td>0</td>\n",
       "      <td>0</td>\n",
       "    </tr>\n",
       "    <tr>\n",
       "      <th>442</th>\n",
       "      <td>4</td>\n",
       "      <td>0.689682</td>\n",
       "      <td>0</td>\n",
       "      <td>1</td>\n",
       "      <td>0</td>\n",
       "      <td>0</td>\n",
       "    </tr>\n",
       "    <tr>\n",
       "      <th>443</th>\n",
       "      <td>4</td>\n",
       "      <td>1.196198</td>\n",
       "      <td>0</td>\n",
       "      <td>0</td>\n",
       "      <td>0</td>\n",
       "      <td>1</td>\n",
       "    </tr>\n",
       "    <tr>\n",
       "      <th>444</th>\n",
       "      <td>4</td>\n",
       "      <td>1.598213</td>\n",
       "      <td>0</td>\n",
       "      <td>0</td>\n",
       "      <td>0</td>\n",
       "      <td>0</td>\n",
       "    </tr>\n",
       "    <tr>\n",
       "      <th>445</th>\n",
       "      <td>2</td>\n",
       "      <td>0.582642</td>\n",
       "      <td>0</td>\n",
       "      <td>0</td>\n",
       "      <td>0</td>\n",
       "      <td>1</td>\n",
       "    </tr>\n",
       "  </tbody>\n",
       "</table>\n",
       "<p>446 rows × 6 columns</p>\n",
       "</div>"
      ],
      "text/plain": [
       "     performance_rating  sales_quota_pct  recruiting_source_Campus  \\\n",
       "0                     3         1.088190                         0   \n",
       "1                     3         2.394173                         0   \n",
       "2                     2         0.497530                         1   \n",
       "3                     2         2.513958                         0   \n",
       "4                     3         1.424789                         0   \n",
       "..                  ...              ...                       ...   \n",
       "441                   3         1.627813                         1   \n",
       "442                   4         0.689682                         0   \n",
       "443                   4         1.196198                         0   \n",
       "444                   4         1.598213                         0   \n",
       "445                   2         0.582642                         0   \n",
       "\n",
       "     recruiting_source_Referral  recruiting_source_Search Firm  \\\n",
       "0                             0                              0   \n",
       "1                             0                              0   \n",
       "2                             0                              0   \n",
       "3                             0                              0   \n",
       "4                             0                              0   \n",
       "..                          ...                            ...   \n",
       "441                           0                              0   \n",
       "442                           1                              0   \n",
       "443                           0                              0   \n",
       "444                           0                              0   \n",
       "445                           0                              0   \n",
       "\n",
       "     recruiting_source_missing  \n",
       "0                            0  \n",
       "1                            1  \n",
       "2                            0  \n",
       "3                            1  \n",
       "4                            0  \n",
       "..                         ...  \n",
       "441                          0  \n",
       "442                          0  \n",
       "443                          1  \n",
       "444                          0  \n",
       "445                          1  \n",
       "\n",
       "[446 rows x 6 columns]"
      ]
     },
     "execution_count": 59,
     "metadata": {},
     "output_type": "execute_result"
    }
   ],
   "source": [
    "X"
   ]
  },
  {
   "cell_type": "code",
   "execution_count": 68,
   "id": "f02ca8e9",
   "metadata": {},
   "outputs": [],
   "source": [
    "x_train1,x_test1,y_train1,y_test1=train_test_split(X,Y,train_size=0.70,random_state=42)"
   ]
  },
  {
   "cell_type": "code",
   "execution_count": 61,
   "id": "ed54b582",
   "metadata": {},
   "outputs": [],
   "source": [
    "from sklearn.svm import SVC"
   ]
  },
  {
   "cell_type": "code",
   "execution_count": 63,
   "id": "a00c1028",
   "metadata": {},
   "outputs": [],
   "source": [
    "model=SVC(C=1.0,\n",
    "    kernel='rbf')"
   ]
  },
  {
   "cell_type": "code",
   "execution_count": 65,
   "id": "ff11033c",
   "metadata": {},
   "outputs": [],
   "source": [
    "model_svc=model.fit(x_train1,y_train1)"
   ]
  },
  {
   "cell_type": "code",
   "execution_count": 66,
   "id": "0d33763a",
   "metadata": {},
   "outputs": [
    {
     "data": {
      "text/plain": [
       "0.7852564102564102"
      ]
     },
     "execution_count": 66,
     "metadata": {},
     "output_type": "execute_result"
    }
   ],
   "source": [
    "model_svc.score(x_train1,y_train1)"
   ]
  },
  {
   "cell_type": "code",
   "execution_count": 69,
   "id": "85368730",
   "metadata": {},
   "outputs": [
    {
     "data": {
      "text/plain": [
       "0.7910447761194029"
      ]
     },
     "execution_count": 69,
     "metadata": {},
     "output_type": "execute_result"
    }
   ],
   "source": [
    "model_svc.score(x_test1,y_test1)"
   ]
  },
  {
   "cell_type": "code",
   "execution_count": 70,
   "id": "73ce3377",
   "metadata": {},
   "outputs": [],
   "source": [
    "y_test1['predicted_attrition']=model_svc.predict(x_test1)"
   ]
  },
  {
   "cell_type": "code",
   "execution_count": 73,
   "id": "68c55d2b",
   "metadata": {},
   "outputs": [],
   "source": [
    "from sklearn.metrics import accuracy_score,classification_report,confusion_matrix\n"
   ]
  },
  {
   "cell_type": "code",
   "execution_count": 72,
   "id": "318dd841",
   "metadata": {},
   "outputs": [
    {
     "data": {
      "text/plain": [
       "0.7910447761194029"
      ]
     },
     "execution_count": 72,
     "metadata": {},
     "output_type": "execute_result"
    }
   ],
   "source": [
    "accuracy_score(y_test1['attrition'],y_test1['predicted_attrition'],normalize=True)"
   ]
  },
  {
   "cell_type": "code",
   "execution_count": 76,
   "id": "10554a30",
   "metadata": {},
   "outputs": [
    {
     "name": "stdout",
     "output_type": "stream",
     "text": [
      "[[106   0]\n",
      " [ 28   0]]\n"
     ]
    }
   ],
   "source": [
    "print(confusion_matrix(y_test1['attrition'],y_test1['predicted_attrition']))"
   ]
  },
  {
   "cell_type": "code",
   "execution_count": 82,
   "id": "3145d247",
   "metadata": {},
   "outputs": [
    {
     "name": "stdout",
     "output_type": "stream",
     "text": [
      "              precision    recall  f1-score   support\n",
      "\n",
      "           0       0.79      1.00      0.88       106\n",
      "           1       0.00      0.00      0.00        28\n",
      "\n",
      "    accuracy                           0.79       134\n",
      "   macro avg       0.40      0.50      0.44       134\n",
      "weighted avg       0.63      0.79      0.70       134\n",
      "\n"
     ]
    }
   ],
   "source": [
    "print(classification_report(y_test1['attrition'],y_test1['predicted_attrition']))"
   ]
  },
  {
   "cell_type": "markdown",
   "id": "7a9d8e1d",
   "metadata": {},
   "source": [
    "## there is highly imbalance in data as model is not predicting attrition rate correctly <br>\n",
    "### so to handle this we are using smote"
   ]
  },
  {
   "cell_type": "code",
   "execution_count": 77,
   "id": "94afdd14",
   "metadata": {},
   "outputs": [
    {
     "data": {
      "text/plain": [
       "0    351\n",
       "1     95\n",
       "Name: attrition, dtype: int64"
      ]
     },
     "execution_count": 77,
     "metadata": {},
     "output_type": "execute_result"
    }
   ],
   "source": [
    "df.attrition.value_counts()"
   ]
  },
  {
   "cell_type": "code",
   "execution_count": 78,
   "id": "ee40caa5",
   "metadata": {},
   "outputs": [],
   "source": [
    "x_train1_new,y_train1_new=sm.fit_resample(x_train1,y_train1)"
   ]
  },
  {
   "cell_type": "code",
   "execution_count": 79,
   "id": "0fc04389",
   "metadata": {},
   "outputs": [],
   "source": [
    "model_svc_smote=model.fit(x_train1_new,y_train1_new)"
   ]
  },
  {
   "cell_type": "code",
   "execution_count": 84,
   "id": "69c4af95",
   "metadata": {},
   "outputs": [
    {
     "data": {
      "text/plain": [
       "attrition\n",
       "0            245\n",
       "1            245\n",
       "dtype: int64"
      ]
     },
     "execution_count": 84,
     "metadata": {},
     "output_type": "execute_result"
    }
   ],
   "source": [
    "y_train1_new.value_counts()"
   ]
  },
  {
   "cell_type": "code",
   "execution_count": 80,
   "id": "77f44f44",
   "metadata": {},
   "outputs": [],
   "source": [
    "y_test1['attrition_prediction_smote']=model_svc_smote.predict(x_test1)"
   ]
  },
  {
   "cell_type": "code",
   "execution_count": 85,
   "id": "eb0f3730",
   "metadata": {},
   "outputs": [
    {
     "data": {
      "text/plain": [
       "284    0\n",
       "358    0\n",
       "117    0\n",
       "423    0\n",
       "70     1\n",
       "      ..\n",
       "153    0\n",
       "131    1\n",
       "26     0\n",
       "7      1\n",
       "405    1\n",
       "Name: attrition_prediction_smote, Length: 134, dtype: int64"
      ]
     },
     "execution_count": 85,
     "metadata": {},
     "output_type": "execute_result"
    }
   ],
   "source": [
    "y_test1['attrition_prediction_smote']"
   ]
  },
  {
   "cell_type": "code",
   "execution_count": 86,
   "id": "ffc57cbf",
   "metadata": {},
   "outputs": [
    {
     "data": {
      "text/plain": [
       "0.6044776119402985"
      ]
     },
     "execution_count": 86,
     "metadata": {},
     "output_type": "execute_result"
    }
   ],
   "source": [
    "accuracy_score(y_test1['attrition'],y_test1['attrition_prediction_smote'],normalize=True)"
   ]
  },
  {
   "cell_type": "code",
   "execution_count": 87,
   "id": "46b92954",
   "metadata": {
    "scrolled": true
   },
   "outputs": [
    {
     "name": "stdout",
     "output_type": "stream",
     "text": [
      "[[66 40]\n",
      " [13 15]]\n"
     ]
    }
   ],
   "source": [
    "print(confusion_matrix(y_test1['attrition'],y_test1['attrition_prediction_smote']))"
   ]
  },
  {
   "cell_type": "code",
   "execution_count": 88,
   "id": "a1315cb2",
   "metadata": {},
   "outputs": [
    {
     "name": "stdout",
     "output_type": "stream",
     "text": [
      "              precision    recall  f1-score   support\n",
      "\n",
      "           0       0.84      0.62      0.71       106\n",
      "           1       0.27      0.54      0.36        28\n",
      "\n",
      "    accuracy                           0.60       134\n",
      "   macro avg       0.55      0.58      0.54       134\n",
      "weighted avg       0.72      0.60      0.64       134\n",
      "\n"
     ]
    }
   ],
   "source": [
    "print(classification_report(y_test1['attrition'],y_test1['attrition_prediction_smote']))"
   ]
  },
  {
   "cell_type": "code",
   "execution_count": 90,
   "id": "3a54e984",
   "metadata": {},
   "outputs": [
    {
     "name": "stdout",
     "output_type": "stream",
     "text": [
      "Help on class SVC in module sklearn.svm._classes:\n",
      "\n",
      "class SVC(sklearn.svm._base.BaseSVC)\n",
      " |  SVC(*, C=1.0, kernel='rbf', degree=3, gamma='scale', coef0=0.0, shrinking=True, probability=False, tol=0.001, cache_size=200, class_weight=None, verbose=False, max_iter=-1, decision_function_shape='ovr', break_ties=False, random_state=None)\n",
      " |  \n",
      " |  C-Support Vector Classification.\n",
      " |  \n",
      " |  The implementation is based on libsvm. The fit time scales at least\n",
      " |  quadratically with the number of samples and may be impractical\n",
      " |  beyond tens of thousands of samples. For large datasets\n",
      " |  consider using :class:`~sklearn.svm.LinearSVC` or\n",
      " |  :class:`~sklearn.linear_model.SGDClassifier` instead, possibly after a\n",
      " |  :class:`~sklearn.kernel_approximation.Nystroem` transformer.\n",
      " |  \n",
      " |  The multiclass support is handled according to a one-vs-one scheme.\n",
      " |  \n",
      " |  For details on the precise mathematical formulation of the provided\n",
      " |  kernel functions and how `gamma`, `coef0` and `degree` affect each\n",
      " |  other, see the corresponding section in the narrative documentation:\n",
      " |  :ref:`svm_kernels`.\n",
      " |  \n",
      " |  Read more in the :ref:`User Guide <svm_classification>`.\n",
      " |  \n",
      " |  Parameters\n",
      " |  ----------\n",
      " |  C : float, default=1.0\n",
      " |      Regularization parameter. The strength of the regularization is\n",
      " |      inversely proportional to C. Must be strictly positive. The penalty\n",
      " |      is a squared l2 penalty.\n",
      " |  \n",
      " |  kernel : {'linear', 'poly', 'rbf', 'sigmoid', 'precomputed'} or callable,          default='rbf'\n",
      " |      Specifies the kernel type to be used in the algorithm.\n",
      " |      If none is given, 'rbf' will be used. If a callable is given it is\n",
      " |      used to pre-compute the kernel matrix from data matrices; that matrix\n",
      " |      should be an array of shape ``(n_samples, n_samples)``.\n",
      " |  \n",
      " |  degree : int, default=3\n",
      " |      Degree of the polynomial kernel function ('poly').\n",
      " |      Ignored by all other kernels.\n",
      " |  \n",
      " |  gamma : {'scale', 'auto'} or float, default='scale'\n",
      " |      Kernel coefficient for 'rbf', 'poly' and 'sigmoid'.\n",
      " |  \n",
      " |      - if ``gamma='scale'`` (default) is passed then it uses\n",
      " |        1 / (n_features * X.var()) as value of gamma,\n",
      " |      - if 'auto', uses 1 / n_features.\n",
      " |  \n",
      " |      .. versionchanged:: 0.22\n",
      " |         The default value of ``gamma`` changed from 'auto' to 'scale'.\n",
      " |  \n",
      " |  coef0 : float, default=0.0\n",
      " |      Independent term in kernel function.\n",
      " |      It is only significant in 'poly' and 'sigmoid'.\n",
      " |  \n",
      " |  shrinking : bool, default=True\n",
      " |      Whether to use the shrinking heuristic.\n",
      " |      See the :ref:`User Guide <shrinking_svm>`.\n",
      " |  \n",
      " |  probability : bool, default=False\n",
      " |      Whether to enable probability estimates. This must be enabled prior\n",
      " |      to calling `fit`, will slow down that method as it internally uses\n",
      " |      5-fold cross-validation, and `predict_proba` may be inconsistent with\n",
      " |      `predict`. Read more in the :ref:`User Guide <scores_probabilities>`.\n",
      " |  \n",
      " |  tol : float, default=1e-3\n",
      " |      Tolerance for stopping criterion.\n",
      " |  \n",
      " |  cache_size : float, default=200\n",
      " |      Specify the size of the kernel cache (in MB).\n",
      " |  \n",
      " |  class_weight : dict or 'balanced', default=None\n",
      " |      Set the parameter C of class i to class_weight[i]*C for\n",
      " |      SVC. If not given, all classes are supposed to have\n",
      " |      weight one.\n",
      " |      The \"balanced\" mode uses the values of y to automatically adjust\n",
      " |      weights inversely proportional to class frequencies in the input data\n",
      " |      as ``n_samples / (n_classes * np.bincount(y))``.\n",
      " |  \n",
      " |  verbose : bool, default=False\n",
      " |      Enable verbose output. Note that this setting takes advantage of a\n",
      " |      per-process runtime setting in libsvm that, if enabled, may not work\n",
      " |      properly in a multithreaded context.\n",
      " |  \n",
      " |  max_iter : int, default=-1\n",
      " |      Hard limit on iterations within solver, or -1 for no limit.\n",
      " |  \n",
      " |  decision_function_shape : {'ovo', 'ovr'}, default='ovr'\n",
      " |      Whether to return a one-vs-rest ('ovr') decision function of shape\n",
      " |      (n_samples, n_classes) as all other classifiers, or the original\n",
      " |      one-vs-one ('ovo') decision function of libsvm which has shape\n",
      " |      (n_samples, n_classes * (n_classes - 1) / 2). However, one-vs-one\n",
      " |      ('ovo') is always used as multi-class strategy. The parameter is\n",
      " |      ignored for binary classification.\n",
      " |  \n",
      " |      .. versionchanged:: 0.19\n",
      " |          decision_function_shape is 'ovr' by default.\n",
      " |  \n",
      " |      .. versionadded:: 0.17\n",
      " |         *decision_function_shape='ovr'* is recommended.\n",
      " |  \n",
      " |      .. versionchanged:: 0.17\n",
      " |         Deprecated *decision_function_shape='ovo' and None*.\n",
      " |  \n",
      " |  break_ties : bool, default=False\n",
      " |      If true, ``decision_function_shape='ovr'``, and number of classes > 2,\n",
      " |      :term:`predict` will break ties according to the confidence values of\n",
      " |      :term:`decision_function`; otherwise the first class among the tied\n",
      " |      classes is returned. Please note that breaking ties comes at a\n",
      " |      relatively high computational cost compared to a simple predict.\n",
      " |  \n",
      " |      .. versionadded:: 0.22\n",
      " |  \n",
      " |  random_state : int, RandomState instance or None, default=None\n",
      " |      Controls the pseudo random number generation for shuffling the data for\n",
      " |      probability estimates. Ignored when `probability` is False.\n",
      " |      Pass an int for reproducible output across multiple function calls.\n",
      " |      See :term:`Glossary <random_state>`.\n",
      " |  \n",
      " |  Attributes\n",
      " |  ----------\n",
      " |  class_weight_ : ndarray of shape (n_classes,)\n",
      " |      Multipliers of parameter C for each class.\n",
      " |      Computed based on the ``class_weight`` parameter.\n",
      " |  \n",
      " |  classes_ : ndarray of shape (n_classes,)\n",
      " |      The classes labels.\n",
      " |  \n",
      " |  coef_ : ndarray of shape (n_classes * (n_classes - 1) / 2, n_features)\n",
      " |      Weights assigned to the features (coefficients in the primal\n",
      " |      problem). This is only available in the case of a linear kernel.\n",
      " |  \n",
      " |      `coef_` is a readonly property derived from `dual_coef_` and\n",
      " |      `support_vectors_`.\n",
      " |  \n",
      " |  dual_coef_ : ndarray of shape (n_classes -1, n_SV)\n",
      " |      Dual coefficients of the support vector in the decision\n",
      " |      function (see :ref:`sgd_mathematical_formulation`), multiplied by\n",
      " |      their targets.\n",
      " |      For multiclass, coefficient for all 1-vs-1 classifiers.\n",
      " |      The layout of the coefficients in the multiclass case is somewhat\n",
      " |      non-trivial. See the :ref:`multi-class section of the User Guide\n",
      " |      <svm_multi_class>` for details.\n",
      " |  \n",
      " |  fit_status_ : int\n",
      " |      0 if correctly fitted, 1 otherwise (will raise warning)\n",
      " |  \n",
      " |  intercept_ : ndarray of shape (n_classes * (n_classes - 1) / 2,)\n",
      " |      Constants in decision function.\n",
      " |  \n",
      " |  n_features_in_ : int\n",
      " |      Number of features seen during :term:`fit`.\n",
      " |  \n",
      " |      .. versionadded:: 0.24\n",
      " |  \n",
      " |  feature_names_in_ : ndarray of shape (`n_features_in_`,)\n",
      " |      Names of features seen during :term:`fit`. Defined only when `X`\n",
      " |      has feature names that are all strings.\n",
      " |  \n",
      " |      .. versionadded:: 1.0\n",
      " |  \n",
      " |  support_ : ndarray of shape (n_SV)\n",
      " |      Indices of support vectors.\n",
      " |  \n",
      " |  support_vectors_ : ndarray of shape (n_SV, n_features)\n",
      " |      Support vectors.\n",
      " |  \n",
      " |  n_support_ : ndarray of shape (n_classes,), dtype=int32\n",
      " |      Number of support vectors for each class.\n",
      " |  \n",
      " |  probA_ : ndarray of shape (n_classes * (n_classes - 1) / 2)\n",
      " |  probB_ : ndarray of shape (n_classes * (n_classes - 1) / 2)\n",
      " |      If `probability=True`, it corresponds to the parameters learned in\n",
      " |      Platt scaling to produce probability estimates from decision values.\n",
      " |      If `probability=False`, it's an empty array. Platt scaling uses the\n",
      " |      logistic function\n",
      " |      ``1 / (1 + exp(decision_value * probA_ + probB_))``\n",
      " |      where ``probA_`` and ``probB_`` are learned from the dataset [2]_. For\n",
      " |      more information on the multiclass case and training procedure see\n",
      " |      section 8 of [1]_.\n",
      " |  \n",
      " |  shape_fit_ : tuple of int of shape (n_dimensions_of_X,)\n",
      " |      Array dimensions of training vector ``X``.\n",
      " |  \n",
      " |  See Also\n",
      " |  --------\n",
      " |  SVR : Support Vector Machine for Regression implemented using libsvm.\n",
      " |  \n",
      " |  LinearSVC : Scalable Linear Support Vector Machine for classification\n",
      " |      implemented using liblinear. Check the See Also section of\n",
      " |      LinearSVC for more comparison element.\n",
      " |  \n",
      " |  References\n",
      " |  ----------\n",
      " |  .. [1] `LIBSVM: A Library for Support Vector Machines\n",
      " |      <http://www.csie.ntu.edu.tw/~cjlin/papers/libsvm.pdf>`_\n",
      " |  \n",
      " |  .. [2] `Platt, John (1999). \"Probabilistic outputs for support vector\n",
      " |      machines and comparison to regularizedlikelihood methods.\"\n",
      " |      <http://citeseer.ist.psu.edu/viewdoc/summary?doi=10.1.1.41.1639>`_\n",
      " |  \n",
      " |  Examples\n",
      " |  --------\n",
      " |  >>> import numpy as np\n",
      " |  >>> from sklearn.pipeline import make_pipeline\n",
      " |  >>> from sklearn.preprocessing import StandardScaler\n",
      " |  >>> X = np.array([[-1, -1], [-2, -1], [1, 1], [2, 1]])\n",
      " |  >>> y = np.array([1, 1, 2, 2])\n",
      " |  >>> from sklearn.svm import SVC\n",
      " |  >>> clf = make_pipeline(StandardScaler(), SVC(gamma='auto'))\n",
      " |  >>> clf.fit(X, y)\n",
      " |  Pipeline(steps=[('standardscaler', StandardScaler()),\n",
      " |                  ('svc', SVC(gamma='auto'))])\n",
      " |  \n",
      " |  >>> print(clf.predict([[-0.8, -1]]))\n",
      " |  [1]\n",
      " |  \n",
      " |  Method resolution order:\n",
      " |      SVC\n",
      " |      sklearn.svm._base.BaseSVC\n",
      " |      sklearn.base.ClassifierMixin\n",
      " |      sklearn.svm._base.BaseLibSVM\n",
      " |      sklearn.base.BaseEstimator\n",
      " |      builtins.object\n",
      " |  \n",
      " |  Methods defined here:\n",
      " |  \n",
      " |  __init__(self, *, C=1.0, kernel='rbf', degree=3, gamma='scale', coef0=0.0, shrinking=True, probability=False, tol=0.001, cache_size=200, class_weight=None, verbose=False, max_iter=-1, decision_function_shape='ovr', break_ties=False, random_state=None)\n",
      " |      Initialize self.  See help(type(self)) for accurate signature.\n",
      " |  \n",
      " |  ----------------------------------------------------------------------\n",
      " |  Data and other attributes defined here:\n",
      " |  \n",
      " |  __abstractmethods__ = frozenset()\n",
      " |  \n",
      " |  ----------------------------------------------------------------------\n",
      " |  Methods inherited from sklearn.svm._base.BaseSVC:\n",
      " |  \n",
      " |  decision_function(self, X)\n",
      " |      Evaluate the decision function for the samples in X.\n",
      " |      \n",
      " |      Parameters\n",
      " |      ----------\n",
      " |      X : array-like of shape (n_samples, n_features)\n",
      " |          The input samples.\n",
      " |      \n",
      " |      Returns\n",
      " |      -------\n",
      " |      X : ndarray of shape (n_samples, n_classes * (n_classes-1) / 2)\n",
      " |          Returns the decision function of the sample for each class\n",
      " |          in the model.\n",
      " |          If decision_function_shape='ovr', the shape is (n_samples,\n",
      " |          n_classes).\n",
      " |      \n",
      " |      Notes\n",
      " |      -----\n",
      " |      If decision_function_shape='ovo', the function values are proportional\n",
      " |      to the distance of the samples X to the separating hyperplane. If the\n",
      " |      exact distances are required, divide the function values by the norm of\n",
      " |      the weight vector (``coef_``). See also `this question\n",
      " |      <https://stats.stackexchange.com/questions/14876/\n",
      " |      interpreting-distance-from-hyperplane-in-svm>`_ for further details.\n",
      " |      If decision_function_shape='ovr', the decision function is a monotonic\n",
      " |      transformation of ovo decision function.\n",
      " |  \n",
      " |  predict(self, X)\n",
      " |      Perform classification on samples in X.\n",
      " |      \n",
      " |      For an one-class model, +1 or -1 is returned.\n",
      " |      \n",
      " |      Parameters\n",
      " |      ----------\n",
      " |      X : {array-like, sparse matrix} of shape (n_samples, n_features) or                 (n_samples_test, n_samples_train)\n",
      " |          For kernel=\"precomputed\", the expected shape of X is\n",
      " |          (n_samples_test, n_samples_train).\n",
      " |      \n",
      " |      Returns\n",
      " |      -------\n",
      " |      y_pred : ndarray of shape (n_samples,)\n",
      " |          Class labels for samples in X.\n",
      " |  \n",
      " |  predict_log_proba(self, X)\n",
      " |      Compute log probabilities of possible outcomes for samples in X.\n",
      " |      \n",
      " |      The model need to have probability information computed at training\n",
      " |      time: fit with attribute `probability` set to True.\n",
      " |      \n",
      " |      Parameters\n",
      " |      ----------\n",
      " |      X : array-like of shape (n_samples, n_features) or                 (n_samples_test, n_samples_train)\n",
      " |          For kernel=\"precomputed\", the expected shape of X is\n",
      " |          (n_samples_test, n_samples_train).\n",
      " |      \n",
      " |      Returns\n",
      " |      -------\n",
      " |      T : ndarray of shape (n_samples, n_classes)\n",
      " |          Returns the log-probabilities of the sample for each class in\n",
      " |          the model. The columns correspond to the classes in sorted\n",
      " |          order, as they appear in the attribute :term:`classes_`.\n",
      " |      \n",
      " |      Notes\n",
      " |      -----\n",
      " |      The probability model is created using cross validation, so\n",
      " |      the results can be slightly different than those obtained by\n",
      " |      predict. Also, it will produce meaningless results on very small\n",
      " |      datasets.\n",
      " |  \n",
      " |  predict_proba(self, X)\n",
      " |      Compute probabilities of possible outcomes for samples in X.\n",
      " |      \n",
      " |      The model need to have probability information computed at training\n",
      " |      time: fit with attribute `probability` set to True.\n",
      " |      \n",
      " |      Parameters\n",
      " |      ----------\n",
      " |      X : array-like of shape (n_samples, n_features)\n",
      " |          For kernel=\"precomputed\", the expected shape of X is\n",
      " |          (n_samples_test, n_samples_train).\n",
      " |      \n",
      " |      Returns\n",
      " |      -------\n",
      " |      T : ndarray of shape (n_samples, n_classes)\n",
      " |          Returns the probability of the sample for each class in\n",
      " |          the model. The columns correspond to the classes in sorted\n",
      " |          order, as they appear in the attribute :term:`classes_`.\n",
      " |      \n",
      " |      Notes\n",
      " |      -----\n",
      " |      The probability model is created using cross validation, so\n",
      " |      the results can be slightly different than those obtained by\n",
      " |      predict. Also, it will produce meaningless results on very small\n",
      " |      datasets.\n",
      " |  \n",
      " |  ----------------------------------------------------------------------\n",
      " |  Readonly properties inherited from sklearn.svm._base.BaseSVC:\n",
      " |  \n",
      " |  probA_\n",
      " |      Parameter learned in Platt scaling when `probability=True`.\n",
      " |      \n",
      " |      Returns\n",
      " |      -------\n",
      " |      ndarray of shape  (n_classes * (n_classes - 1) / 2)\n",
      " |  \n",
      " |  probB_\n",
      " |      Parameter learned in Platt scaling when `probability=True`.\n",
      " |      \n",
      " |      Returns\n",
      " |      -------\n",
      " |      ndarray of shape  (n_classes * (n_classes - 1) / 2)\n",
      " |  \n",
      " |  ----------------------------------------------------------------------\n",
      " |  Methods inherited from sklearn.base.ClassifierMixin:\n",
      " |  \n",
      " |  score(self, X, y, sample_weight=None)\n",
      " |      Return the mean accuracy on the given test data and labels.\n",
      " |      \n",
      " |      In multi-label classification, this is the subset accuracy\n",
      " |      which is a harsh metric since you require for each sample that\n",
      " |      each label set be correctly predicted.\n",
      " |      \n",
      " |      Parameters\n",
      " |      ----------\n",
      " |      X : array-like of shape (n_samples, n_features)\n",
      " |          Test samples.\n",
      " |      \n",
      " |      y : array-like of shape (n_samples,) or (n_samples, n_outputs)\n",
      " |          True labels for `X`.\n",
      " |      \n",
      " |      sample_weight : array-like of shape (n_samples,), default=None\n",
      " |          Sample weights.\n",
      " |      \n",
      " |      Returns\n",
      " |      -------\n",
      " |      score : float\n",
      " |          Mean accuracy of ``self.predict(X)`` wrt. `y`.\n",
      " |  \n",
      " |  ----------------------------------------------------------------------\n",
      " |  Data descriptors inherited from sklearn.base.ClassifierMixin:\n",
      " |  \n",
      " |  __dict__\n",
      " |      dictionary for instance variables (if defined)\n",
      " |  \n",
      " |  __weakref__\n",
      " |      list of weak references to the object (if defined)\n",
      " |  \n",
      " |  ----------------------------------------------------------------------\n",
      " |  Methods inherited from sklearn.svm._base.BaseLibSVM:\n",
      " |  \n",
      " |  fit(self, X, y, sample_weight=None)\n",
      " |      Fit the SVM model according to the given training data.\n",
      " |      \n",
      " |      Parameters\n",
      " |      ----------\n",
      " |      X : {array-like, sparse matrix} of shape (n_samples, n_features)                 or (n_samples, n_samples)\n",
      " |          Training vectors, where `n_samples` is the number of samples\n",
      " |          and `n_features` is the number of features.\n",
      " |          For kernel=\"precomputed\", the expected shape of X is\n",
      " |          (n_samples, n_samples).\n",
      " |      \n",
      " |      y : array-like of shape (n_samples,)\n",
      " |          Target values (class labels in classification, real numbers in\n",
      " |          regression).\n",
      " |      \n",
      " |      sample_weight : array-like of shape (n_samples,), default=None\n",
      " |          Per-sample weights. Rescale C per sample. Higher weights\n",
      " |          force the classifier to put more emphasis on these points.\n",
      " |      \n",
      " |      Returns\n",
      " |      -------\n",
      " |      self : object\n",
      " |          Fitted estimator.\n",
      " |      \n",
      " |      Notes\n",
      " |      -----\n",
      " |      If X and y are not C-ordered and contiguous arrays of np.float64 and\n",
      " |      X is not a scipy.sparse.csr_matrix, X and/or y may be copied.\n",
      " |      \n",
      " |      If X is a dense array, then the other methods will not support sparse\n",
      " |      matrices as input.\n",
      " |  \n",
      " |  ----------------------------------------------------------------------\n",
      " |  Readonly properties inherited from sklearn.svm._base.BaseLibSVM:\n",
      " |  \n",
      " |  coef_\n",
      " |      Weights assigned to the features when `kernel=\"linear\"`.\n",
      " |      \n",
      " |      Returns\n",
      " |      -------\n",
      " |      ndarray of shape (n_features, n_classes)\n",
      " |  \n",
      " |  n_support_\n",
      " |      Number of support vectors for each class.\n",
      " |  \n",
      " |  ----------------------------------------------------------------------\n",
      " |  Methods inherited from sklearn.base.BaseEstimator:\n",
      " |  \n",
      " |  __getstate__(self)\n",
      " |  \n",
      " |  __repr__(self, N_CHAR_MAX=700)\n",
      " |      Return repr(self).\n",
      " |  \n",
      " |  __setstate__(self, state)\n",
      " |  \n",
      " |  get_params(self, deep=True)\n",
      " |      Get parameters for this estimator.\n",
      " |      \n",
      " |      Parameters\n",
      " |      ----------\n",
      " |      deep : bool, default=True\n",
      " |          If True, will return the parameters for this estimator and\n",
      " |          contained subobjects that are estimators.\n",
      " |      \n",
      " |      Returns\n",
      " |      -------\n",
      " |      params : dict\n",
      " |          Parameter names mapped to their values.\n",
      " |  \n",
      " |  set_params(self, **params)\n",
      " |      Set the parameters of this estimator.\n",
      " |      \n",
      " |      The method works on simple estimators as well as on nested objects\n",
      " |      (such as :class:`~sklearn.pipeline.Pipeline`). The latter have\n",
      " |      parameters of the form ``<component>__<parameter>`` so that it's\n",
      " |      possible to update each component of a nested object.\n",
      " |      \n",
      " |      Parameters\n",
      " |      ----------\n",
      " |      **params : dict\n",
      " |          Estimator parameters.\n",
      " |      \n",
      " |      Returns\n",
      " |      -------\n",
      " |      self : estimator instance\n",
      " |          Estimator instance.\n",
      "\n"
     ]
    }
   ],
   "source": [
    "help(SVC)"
   ]
  },
  {
   "cell_type": "code",
   "execution_count": null,
   "id": "0e655791",
   "metadata": {},
   "outputs": [],
   "source": []
  },
  {
   "cell_type": "markdown",
   "id": "a6747158",
   "metadata": {},
   "source": [
    "# Recall(TPR,sensititvity =(TP)/(TP+FN) is more imporant in attrittion Business perspective domain and we achieved quiet low value of FN i.e.13\n",
    "### collectively this model is not bad though we will check further algorithms like naive bayes ,decision tree ,random forest algorithm <br>\n",
    "### SVC gives 61% accuracy"
   ]
  },
  {
   "cell_type": "markdown",
   "id": "797fb0da",
   "metadata": {},
   "source": [
    "# Hyperparameter Tuning\n",
    "Now, we have multiple hyperparameters to optimise -\n",
    "\n",
    "- The choice of kernel (linear, rbf etc.)\n",
    "- C\n",
    "- gamma\n",
    "We'll use the GridSearchCV() method to tune the hyperparameters."
   ]
  },
  {
   "cell_type": "code",
   "execution_count": 91,
   "id": "a16db7cc",
   "metadata": {},
   "outputs": [],
   "source": [
    "from sklearn.model_selection import KFold\n",
    "from sklearn.model_selection import GridSearchCV"
   ]
  },
  {
   "cell_type": "code",
   "execution_count": 93,
   "id": "a51509ac",
   "metadata": {},
   "outputs": [
    {
     "name": "stdout",
     "output_type": "stream",
     "text": [
      "Fitting 5 folds for each of 12 candidates, totalling 60 fits\n"
     ]
    },
    {
     "data": {
      "text/plain": [
       "GridSearchCV(cv=KFold(n_splits=5, random_state=4, shuffle=True),\n",
       "             estimator=SVC(),\n",
       "             param_grid=[{'C': [1, 10, 100, 1000],\n",
       "                          'gamma': [0.01, 0.001, 0.0001]}],\n",
       "             return_train_score=True, scoring='accuracy', verbose=1)"
      ]
     },
     "execution_count": 93,
     "metadata": {},
     "output_type": "execute_result"
    }
   ],
   "source": [
    "# creating a KFold object with 5 splits \n",
    "folds = KFold(n_splits = 5, shuffle = True, random_state = 4)\n",
    "\n",
    "# specify range of hyperparameters\n",
    "# Set the parameters by cross-validation\n",
    "hyper_params = [ {'gamma': [1e-2, 1e-3, 1e-4],\n",
    "                     'C': [1, 10, 100, 1000]}]\n",
    "\n",
    "\n",
    "# specify model\n",
    "model = SVC(kernel=\"rbf\")\n",
    "\n",
    "# set up GridSearchCV()\n",
    "model_cv = GridSearchCV(estimator = model, \n",
    "                        param_grid = hyper_params, \n",
    "                        scoring= 'accuracy', \n",
    "                        cv = folds, \n",
    "                        verbose = 1,\n",
    "                        return_train_score=True)      \n",
    "\n",
    "# fit the model\n",
    "model_cv.fit(x_train1_new, y_train1_new) "
   ]
  },
  {
   "cell_type": "code",
   "execution_count": 95,
   "id": "8d5dae57",
   "metadata": {},
   "outputs": [
    {
     "data": {
      "text/html": [
       "<div>\n",
       "<style scoped>\n",
       "    .dataframe tbody tr th:only-of-type {\n",
       "        vertical-align: middle;\n",
       "    }\n",
       "\n",
       "    .dataframe tbody tr th {\n",
       "        vertical-align: top;\n",
       "    }\n",
       "\n",
       "    .dataframe thead th {\n",
       "        text-align: right;\n",
       "    }\n",
       "</style>\n",
       "<table border=\"1\" class=\"dataframe\">\n",
       "  <thead>\n",
       "    <tr style=\"text-align: right;\">\n",
       "      <th></th>\n",
       "      <th>mean_fit_time</th>\n",
       "      <th>std_fit_time</th>\n",
       "      <th>mean_score_time</th>\n",
       "      <th>std_score_time</th>\n",
       "      <th>param_C</th>\n",
       "      <th>param_gamma</th>\n",
       "      <th>params</th>\n",
       "      <th>split0_test_score</th>\n",
       "      <th>split1_test_score</th>\n",
       "      <th>split2_test_score</th>\n",
       "      <th>...</th>\n",
       "      <th>mean_test_score</th>\n",
       "      <th>std_test_score</th>\n",
       "      <th>rank_test_score</th>\n",
       "      <th>split0_train_score</th>\n",
       "      <th>split1_train_score</th>\n",
       "      <th>split2_train_score</th>\n",
       "      <th>split3_train_score</th>\n",
       "      <th>split4_train_score</th>\n",
       "      <th>mean_train_score</th>\n",
       "      <th>std_train_score</th>\n",
       "    </tr>\n",
       "  </thead>\n",
       "  <tbody>\n",
       "    <tr>\n",
       "      <th>0</th>\n",
       "      <td>0.017029</td>\n",
       "      <td>0.002781</td>\n",
       "      <td>0.006250</td>\n",
       "      <td>0.007655</td>\n",
       "      <td>1</td>\n",
       "      <td>0.01</td>\n",
       "      <td>{'C': 1, 'gamma': 0.01}</td>\n",
       "      <td>0.602041</td>\n",
       "      <td>0.479592</td>\n",
       "      <td>0.520408</td>\n",
       "      <td>...</td>\n",
       "      <td>0.512245</td>\n",
       "      <td>0.057506</td>\n",
       "      <td>9</td>\n",
       "      <td>0.548469</td>\n",
       "      <td>0.505102</td>\n",
       "      <td>0.607143</td>\n",
       "      <td>0.586735</td>\n",
       "      <td>0.563776</td>\n",
       "      <td>0.562245</td>\n",
       "      <td>0.034851</td>\n",
       "    </tr>\n",
       "    <tr>\n",
       "      <th>1</th>\n",
       "      <td>0.009387</td>\n",
       "      <td>0.007664</td>\n",
       "      <td>0.015623</td>\n",
       "      <td>0.000140</td>\n",
       "      <td>1</td>\n",
       "      <td>0.001</td>\n",
       "      <td>{'C': 1, 'gamma': 0.001}</td>\n",
       "      <td>0.489796</td>\n",
       "      <td>0.479592</td>\n",
       "      <td>0.479592</td>\n",
       "      <td>...</td>\n",
       "      <td>0.479592</td>\n",
       "      <td>0.011178</td>\n",
       "      <td>10</td>\n",
       "      <td>0.502551</td>\n",
       "      <td>0.505102</td>\n",
       "      <td>0.505102</td>\n",
       "      <td>0.510204</td>\n",
       "      <td>0.502551</td>\n",
       "      <td>0.505102</td>\n",
       "      <td>0.002795</td>\n",
       "    </tr>\n",
       "    <tr>\n",
       "      <th>2</th>\n",
       "      <td>0.010686</td>\n",
       "      <td>0.006402</td>\n",
       "      <td>0.006260</td>\n",
       "      <td>0.007667</td>\n",
       "      <td>1</td>\n",
       "      <td>0.0001</td>\n",
       "      <td>{'C': 1, 'gamma': 0.0001}</td>\n",
       "      <td>0.489796</td>\n",
       "      <td>0.479592</td>\n",
       "      <td>0.479592</td>\n",
       "      <td>...</td>\n",
       "      <td>0.479592</td>\n",
       "      <td>0.011178</td>\n",
       "      <td>10</td>\n",
       "      <td>0.502551</td>\n",
       "      <td>0.505102</td>\n",
       "      <td>0.505102</td>\n",
       "      <td>0.510204</td>\n",
       "      <td>0.502551</td>\n",
       "      <td>0.505102</td>\n",
       "      <td>0.002795</td>\n",
       "    </tr>\n",
       "    <tr>\n",
       "      <th>3</th>\n",
       "      <td>0.011940</td>\n",
       "      <td>0.010758</td>\n",
       "      <td>0.012511</td>\n",
       "      <td>0.006255</td>\n",
       "      <td>10</td>\n",
       "      <td>0.01</td>\n",
       "      <td>{'C': 10, 'gamma': 0.01}</td>\n",
       "      <td>0.612245</td>\n",
       "      <td>0.632653</td>\n",
       "      <td>0.632653</td>\n",
       "      <td>...</td>\n",
       "      <td>0.595918</td>\n",
       "      <td>0.049403</td>\n",
       "      <td>4</td>\n",
       "      <td>0.607143</td>\n",
       "      <td>0.602041</td>\n",
       "      <td>0.622449</td>\n",
       "      <td>0.609694</td>\n",
       "      <td>0.609694</td>\n",
       "      <td>0.610204</td>\n",
       "      <td>0.006730</td>\n",
       "    </tr>\n",
       "    <tr>\n",
       "      <th>4</th>\n",
       "      <td>0.019532</td>\n",
       "      <td>0.003101</td>\n",
       "      <td>0.003149</td>\n",
       "      <td>0.006298</td>\n",
       "      <td>10</td>\n",
       "      <td>0.001</td>\n",
       "      <td>{'C': 10, 'gamma': 0.001}</td>\n",
       "      <td>0.581633</td>\n",
       "      <td>0.479592</td>\n",
       "      <td>0.540816</td>\n",
       "      <td>...</td>\n",
       "      <td>0.516327</td>\n",
       "      <td>0.046805</td>\n",
       "      <td>8</td>\n",
       "      <td>0.551020</td>\n",
       "      <td>0.505102</td>\n",
       "      <td>0.609694</td>\n",
       "      <td>0.589286</td>\n",
       "      <td>0.566327</td>\n",
       "      <td>0.564286</td>\n",
       "      <td>0.035692</td>\n",
       "    </tr>\n",
       "    <tr>\n",
       "      <th>5</th>\n",
       "      <td>0.016914</td>\n",
       "      <td>0.002625</td>\n",
       "      <td>0.001305</td>\n",
       "      <td>0.002611</td>\n",
       "      <td>10</td>\n",
       "      <td>0.0001</td>\n",
       "      <td>{'C': 10, 'gamma': 0.0001}</td>\n",
       "      <td>0.489796</td>\n",
       "      <td>0.479592</td>\n",
       "      <td>0.479592</td>\n",
       "      <td>...</td>\n",
       "      <td>0.479592</td>\n",
       "      <td>0.011178</td>\n",
       "      <td>10</td>\n",
       "      <td>0.502551</td>\n",
       "      <td>0.505102</td>\n",
       "      <td>0.505102</td>\n",
       "      <td>0.510204</td>\n",
       "      <td>0.502551</td>\n",
       "      <td>0.505102</td>\n",
       "      <td>0.002795</td>\n",
       "    </tr>\n",
       "    <tr>\n",
       "      <th>6</th>\n",
       "      <td>0.023247</td>\n",
       "      <td>0.007071</td>\n",
       "      <td>0.012563</td>\n",
       "      <td>0.006282</td>\n",
       "      <td>100</td>\n",
       "      <td>0.01</td>\n",
       "      <td>{'C': 100, 'gamma': 0.01}</td>\n",
       "      <td>0.622449</td>\n",
       "      <td>0.632653</td>\n",
       "      <td>0.591837</td>\n",
       "      <td>...</td>\n",
       "      <td>0.602041</td>\n",
       "      <td>0.024995</td>\n",
       "      <td>3</td>\n",
       "      <td>0.609694</td>\n",
       "      <td>0.602041</td>\n",
       "      <td>0.617347</td>\n",
       "      <td>0.619898</td>\n",
       "      <td>0.614796</td>\n",
       "      <td>0.612755</td>\n",
       "      <td>0.006331</td>\n",
       "    </tr>\n",
       "    <tr>\n",
       "      <th>7</th>\n",
       "      <td>0.015706</td>\n",
       "      <td>0.000135</td>\n",
       "      <td>0.009376</td>\n",
       "      <td>0.007655</td>\n",
       "      <td>100</td>\n",
       "      <td>0.001</td>\n",
       "      <td>{'C': 100, 'gamma': 0.001}</td>\n",
       "      <td>0.612245</td>\n",
       "      <td>0.632653</td>\n",
       "      <td>0.632653</td>\n",
       "      <td>...</td>\n",
       "      <td>0.595918</td>\n",
       "      <td>0.049403</td>\n",
       "      <td>4</td>\n",
       "      <td>0.607143</td>\n",
       "      <td>0.602041</td>\n",
       "      <td>0.625000</td>\n",
       "      <td>0.609694</td>\n",
       "      <td>0.609694</td>\n",
       "      <td>0.610714</td>\n",
       "      <td>0.007670</td>\n",
       "    </tr>\n",
       "    <tr>\n",
       "      <th>8</th>\n",
       "      <td>0.015595</td>\n",
       "      <td>0.000100</td>\n",
       "      <td>0.000000</td>\n",
       "      <td>0.000000</td>\n",
       "      <td>100</td>\n",
       "      <td>0.0001</td>\n",
       "      <td>{'C': 100, 'gamma': 0.0001}</td>\n",
       "      <td>0.581633</td>\n",
       "      <td>0.479592</td>\n",
       "      <td>0.551020</td>\n",
       "      <td>...</td>\n",
       "      <td>0.518367</td>\n",
       "      <td>0.048035</td>\n",
       "      <td>7</td>\n",
       "      <td>0.551020</td>\n",
       "      <td>0.505102</td>\n",
       "      <td>0.612245</td>\n",
       "      <td>0.589286</td>\n",
       "      <td>0.563776</td>\n",
       "      <td>0.564286</td>\n",
       "      <td>0.036343</td>\n",
       "    </tr>\n",
       "    <tr>\n",
       "      <th>9</th>\n",
       "      <td>0.075032</td>\n",
       "      <td>0.035496</td>\n",
       "      <td>0.006255</td>\n",
       "      <td>0.007661</td>\n",
       "      <td>1000</td>\n",
       "      <td>0.01</td>\n",
       "      <td>{'C': 1000, 'gamma': 0.01}</td>\n",
       "      <td>0.632653</td>\n",
       "      <td>0.653061</td>\n",
       "      <td>0.632653</td>\n",
       "      <td>...</td>\n",
       "      <td>0.618367</td>\n",
       "      <td>0.031352</td>\n",
       "      <td>1</td>\n",
       "      <td>0.642857</td>\n",
       "      <td>0.617347</td>\n",
       "      <td>0.635204</td>\n",
       "      <td>0.653061</td>\n",
       "      <td>0.640306</td>\n",
       "      <td>0.637755</td>\n",
       "      <td>0.011746</td>\n",
       "    </tr>\n",
       "    <tr>\n",
       "      <th>10</th>\n",
       "      <td>0.035692</td>\n",
       "      <td>0.006140</td>\n",
       "      <td>0.001305</td>\n",
       "      <td>0.002611</td>\n",
       "      <td>1000</td>\n",
       "      <td>0.001</td>\n",
       "      <td>{'C': 1000, 'gamma': 0.001}</td>\n",
       "      <td>0.622449</td>\n",
       "      <td>0.632653</td>\n",
       "      <td>0.591837</td>\n",
       "      <td>...</td>\n",
       "      <td>0.604082</td>\n",
       "      <td>0.021790</td>\n",
       "      <td>2</td>\n",
       "      <td>0.609694</td>\n",
       "      <td>0.602041</td>\n",
       "      <td>0.617347</td>\n",
       "      <td>0.617347</td>\n",
       "      <td>0.614796</td>\n",
       "      <td>0.612245</td>\n",
       "      <td>0.005817</td>\n",
       "    </tr>\n",
       "    <tr>\n",
       "      <th>11</th>\n",
       "      <td>0.021896</td>\n",
       "      <td>0.007640</td>\n",
       "      <td>0.008842</td>\n",
       "      <td>0.005994</td>\n",
       "      <td>1000</td>\n",
       "      <td>0.0001</td>\n",
       "      <td>{'C': 1000, 'gamma': 0.0001}</td>\n",
       "      <td>0.612245</td>\n",
       "      <td>0.632653</td>\n",
       "      <td>0.612245</td>\n",
       "      <td>...</td>\n",
       "      <td>0.591837</td>\n",
       "      <td>0.046983</td>\n",
       "      <td>6</td>\n",
       "      <td>0.607143</td>\n",
       "      <td>0.602041</td>\n",
       "      <td>0.622449</td>\n",
       "      <td>0.609694</td>\n",
       "      <td>0.609694</td>\n",
       "      <td>0.610204</td>\n",
       "      <td>0.006730</td>\n",
       "    </tr>\n",
       "  </tbody>\n",
       "</table>\n",
       "<p>12 rows × 22 columns</p>\n",
       "</div>"
      ],
      "text/plain": [
       "    mean_fit_time  std_fit_time  mean_score_time  std_score_time param_C  \\\n",
       "0        0.017029      0.002781         0.006250        0.007655       1   \n",
       "1        0.009387      0.007664         0.015623        0.000140       1   \n",
       "2        0.010686      0.006402         0.006260        0.007667       1   \n",
       "3        0.011940      0.010758         0.012511        0.006255      10   \n",
       "4        0.019532      0.003101         0.003149        0.006298      10   \n",
       "5        0.016914      0.002625         0.001305        0.002611      10   \n",
       "6        0.023247      0.007071         0.012563        0.006282     100   \n",
       "7        0.015706      0.000135         0.009376        0.007655     100   \n",
       "8        0.015595      0.000100         0.000000        0.000000     100   \n",
       "9        0.075032      0.035496         0.006255        0.007661    1000   \n",
       "10       0.035692      0.006140         0.001305        0.002611    1000   \n",
       "11       0.021896      0.007640         0.008842        0.005994    1000   \n",
       "\n",
       "   param_gamma                        params  split0_test_score  \\\n",
       "0         0.01       {'C': 1, 'gamma': 0.01}           0.602041   \n",
       "1        0.001      {'C': 1, 'gamma': 0.001}           0.489796   \n",
       "2       0.0001     {'C': 1, 'gamma': 0.0001}           0.489796   \n",
       "3         0.01      {'C': 10, 'gamma': 0.01}           0.612245   \n",
       "4        0.001     {'C': 10, 'gamma': 0.001}           0.581633   \n",
       "5       0.0001    {'C': 10, 'gamma': 0.0001}           0.489796   \n",
       "6         0.01     {'C': 100, 'gamma': 0.01}           0.622449   \n",
       "7        0.001    {'C': 100, 'gamma': 0.001}           0.612245   \n",
       "8       0.0001   {'C': 100, 'gamma': 0.0001}           0.581633   \n",
       "9         0.01    {'C': 1000, 'gamma': 0.01}           0.632653   \n",
       "10       0.001   {'C': 1000, 'gamma': 0.001}           0.622449   \n",
       "11      0.0001  {'C': 1000, 'gamma': 0.0001}           0.612245   \n",
       "\n",
       "    split1_test_score  split2_test_score  ...  mean_test_score  \\\n",
       "0            0.479592           0.520408  ...         0.512245   \n",
       "1            0.479592           0.479592  ...         0.479592   \n",
       "2            0.479592           0.479592  ...         0.479592   \n",
       "3            0.632653           0.632653  ...         0.595918   \n",
       "4            0.479592           0.540816  ...         0.516327   \n",
       "5            0.479592           0.479592  ...         0.479592   \n",
       "6            0.632653           0.591837  ...         0.602041   \n",
       "7            0.632653           0.632653  ...         0.595918   \n",
       "8            0.479592           0.551020  ...         0.518367   \n",
       "9            0.653061           0.632653  ...         0.618367   \n",
       "10           0.632653           0.591837  ...         0.604082   \n",
       "11           0.632653           0.612245  ...         0.591837   \n",
       "\n",
       "    std_test_score  rank_test_score  split0_train_score  split1_train_score  \\\n",
       "0         0.057506                9            0.548469            0.505102   \n",
       "1         0.011178               10            0.502551            0.505102   \n",
       "2         0.011178               10            0.502551            0.505102   \n",
       "3         0.049403                4            0.607143            0.602041   \n",
       "4         0.046805                8            0.551020            0.505102   \n",
       "5         0.011178               10            0.502551            0.505102   \n",
       "6         0.024995                3            0.609694            0.602041   \n",
       "7         0.049403                4            0.607143            0.602041   \n",
       "8         0.048035                7            0.551020            0.505102   \n",
       "9         0.031352                1            0.642857            0.617347   \n",
       "10        0.021790                2            0.609694            0.602041   \n",
       "11        0.046983                6            0.607143            0.602041   \n",
       "\n",
       "    split2_train_score  split3_train_score  split4_train_score  \\\n",
       "0             0.607143            0.586735            0.563776   \n",
       "1             0.505102            0.510204            0.502551   \n",
       "2             0.505102            0.510204            0.502551   \n",
       "3             0.622449            0.609694            0.609694   \n",
       "4             0.609694            0.589286            0.566327   \n",
       "5             0.505102            0.510204            0.502551   \n",
       "6             0.617347            0.619898            0.614796   \n",
       "7             0.625000            0.609694            0.609694   \n",
       "8             0.612245            0.589286            0.563776   \n",
       "9             0.635204            0.653061            0.640306   \n",
       "10            0.617347            0.617347            0.614796   \n",
       "11            0.622449            0.609694            0.609694   \n",
       "\n",
       "    mean_train_score  std_train_score  \n",
       "0           0.562245         0.034851  \n",
       "1           0.505102         0.002795  \n",
       "2           0.505102         0.002795  \n",
       "3           0.610204         0.006730  \n",
       "4           0.564286         0.035692  \n",
       "5           0.505102         0.002795  \n",
       "6           0.612755         0.006331  \n",
       "7           0.610714         0.007670  \n",
       "8           0.564286         0.036343  \n",
       "9           0.637755         0.011746  \n",
       "10          0.612245         0.005817  \n",
       "11          0.610204         0.006730  \n",
       "\n",
       "[12 rows x 22 columns]"
      ]
     },
     "execution_count": 95,
     "metadata": {},
     "output_type": "execute_result"
    }
   ],
   "source": [
    "# cv results\n",
    "cv_results = pd.DataFrame(model_cv.cv_results_)\n",
    "cv_results"
   ]
  },
  {
   "cell_type": "code",
   "execution_count": 96,
   "id": "ea47105a",
   "metadata": {},
   "outputs": [
    {
     "data": {
      "image/png": "[encoded data removed]",
      "text/plain": [
       "<Figure size 1600x600 with 3 Axes>"
      ]
     },
     "metadata": {},
     "output_type": "display_data"
    }
   ],
   "source": [
    "# converting C to numeric type for plotting on x-axis\n",
    "cv_results['param_C'] = cv_results['param_C'].astype('int')\n",
    "\n",
    "# # plotting\n",
    "plt.figure(figsize=(16,6))\n",
    "\n",
    "# subplot 1/3\n",
    "plt.subplot(131)\n",
    "gamma_01 = cv_results[cv_results['param_gamma']==0.01]\n",
    "\n",
    "plt.plot(gamma_01[\"param_C\"], gamma_01[\"mean_test_score\"])\n",
    "plt.plot(gamma_01[\"param_C\"], gamma_01[\"mean_train_score\"])\n",
    "plt.xlabel('C')\n",
    "plt.ylabel('Accuracy')\n",
    "plt.title(\"Gamma=0.01\")\n",
    "plt.ylim([0.80, 1])\n",
    "plt.legend(['test accuracy', 'train accuracy'], loc='upper left')\n",
    "plt.xscale('log')\n",
    "\n",
    "# subplot 2/3\n",
    "plt.subplot(132)\n",
    "gamma_001 = cv_results[cv_results['param_gamma']==0.001]\n",
    "\n",
    "plt.plot(gamma_001[\"param_C\"], gamma_001[\"mean_test_score\"])\n",
    "plt.plot(gamma_001[\"param_C\"], gamma_001[\"mean_train_score\"])\n",
    "plt.xlabel('C')\n",
    "plt.ylabel('Accuracy')\n",
    "plt.title(\"Gamma=0.001\")\n",
    "plt.ylim([0.80, 1])\n",
    "plt.legend(['test accuracy', 'train accuracy'], loc='upper left')\n",
    "plt.xscale('log')\n",
    "\n",
    "\n",
    "# subplot 3/3\n",
    "plt.subplot(133)\n",
    "gamma_0001 = cv_results[cv_results['param_gamma']==0.0001]\n",
    "\n",
    "plt.plot(gamma_0001[\"param_C\"], gamma_0001[\"mean_test_score\"])\n",
    "plt.plot(gamma_0001[\"param_C\"], gamma_0001[\"mean_train_score\"])\n",
    "plt.xlabel('C')\n",
    "plt.ylabel('Accuracy')\n",
    "plt.title(\"Gamma=0.0001\")\n",
    "plt.ylim([0.80, 1])\n",
    "plt.legend(['test accuracy', 'train accuracy'], loc='upper left')\n",
    "plt.xscale('log')"
   ]
  },
  {
   "cell_type": "code",
   "execution_count": 97,
   "id": "d62ce0ca",
   "metadata": {},
   "outputs": [
    {
     "name": "stdout",
     "output_type": "stream",
     "text": [
      "The best test score is 0.6183673469387754 corresponding to hyperparameters {'C': 1000, 'gamma': 0.01}\n"
     ]
    }
   ],
   "source": [
    "# printing the optimal accuracy score and hyperparameters\n",
    "best_score = model_cv.best_score_\n",
    "best_hyperparams = model_cv.best_params_\n",
    "\n",
    "print(\"The best test score is {0} corresponding to hyperparameters {1}\".format(best_score, best_hyperparams))"
   ]
  },
  {
   "cell_type": "markdown",
   "id": "8996223b",
   "metadata": {},
   "source": [
    "The best test score is 0.6183673469387754 corresponding to hyperparameters {'C': 1000, 'gamma': 0.01}\n",
    "Though sklearn suggests the optimal scores mentioned above (gamma=0.001, C=100), one could argue that it is better to choose a simpler, more non-linear model with gamma=0.0001. This is because the optimal values mentioned here are calculated based on the average test accuracy (but not considering subjective parameters such as model complexity).\n",
    "\n",
    "We can achieve comparable average test accuracy (~60.5%) with gamma=0.0001 as well, though we'll have to increase the cost C for that. So to achieve high accuracy, there's a tradeoff between:\n",
    "\n",
    "High gamma (i.e. high non-linearity) and average value of C\n",
    "Low gamma (i.e. less non-linearity) and high value of C\n",
    "We argue that the model will be simpler if it has as less non-linearity as possible, so we choose gamma=0.01 and a high C=1000."
   ]
  },
  {
   "cell_type": "code",
   "execution_count": null,
   "id": "a980cc47",
   "metadata": {},
   "outputs": [],
   "source": []
  },
  {
   "cell_type": "markdown",
   "id": "1a88c0d8",
   "metadata": {},
   "source": [
    "# Model 3:Naive bayes Algorithm"
   ]
  },
  {
   "cell_type": "code",
   "execution_count": 103,
   "id": "94711323",
   "metadata": {},
   "outputs": [],
   "source": [
    "x_train2,x_test2,y_train2,y_test2=train_test_split(X,Y,train_size=0.70,random_state=42)"
   ]
  },
  {
   "cell_type": "code",
   "execution_count": 105,
   "id": "5af4d3f5",
   "metadata": {},
   "outputs": [],
   "source": [
    "from sklearn.naive_bayes import GaussianNB"
   ]
  },
  {
   "cell_type": "code",
   "execution_count": 106,
   "id": "56df91dc",
   "metadata": {},
   "outputs": [],
   "source": [
    "nb=GaussianNB()"
   ]
  },
  {
   "cell_type": "code",
   "execution_count": 107,
   "id": "6b4040f2",
   "metadata": {},
   "outputs": [],
   "source": [
    "model_nb=nb.fit(x_train2,y_train2)"
   ]
  },
  {
   "cell_type": "code",
   "execution_count": 108,
   "id": "2e558596",
   "metadata": {},
   "outputs": [
    {
     "data": {
      "text/plain": [
       "0.7884615384615384"
      ]
     },
     "execution_count": 108,
     "metadata": {},
     "output_type": "execute_result"
    }
   ],
   "source": [
    "model_nb.score(x_train2,y_train2)"
   ]
  },
  {
   "cell_type": "code",
   "execution_count": 109,
   "id": "f9d44fe4",
   "metadata": {},
   "outputs": [
    {
     "data": {
      "text/plain": [
       "attrition\n",
       "0            245\n",
       "1             67\n",
       "dtype: int64"
      ]
     },
     "execution_count": 109,
     "metadata": {},
     "output_type": "execute_result"
    }
   ],
   "source": [
    "y_train2.value_counts()"
   ]
  },
  {
   "cell_type": "markdown",
   "id": "503cacea",
   "metadata": {},
   "source": [
    "its clearly a case of model overfitting so before procedding to model we first apply smote "
   ]
  },
  {
   "cell_type": "code",
   "execution_count": 110,
   "id": "10016a9d",
   "metadata": {},
   "outputs": [],
   "source": [
    "x_train2_new,y_train2_new=sm.fit_resample(x_train2,y_train2)"
   ]
  },
  {
   "cell_type": "code",
   "execution_count": 111,
   "id": "c8210bab",
   "metadata": {},
   "outputs": [],
   "source": [
    "model_nb=nb.fit(x_train2_new,y_train2_new)"
   ]
  },
  {
   "cell_type": "code",
   "execution_count": 112,
   "id": "ac0648b4",
   "metadata": {},
   "outputs": [],
   "source": [
    "y_test2['predicted_attrition_nb']=model_nb.predict(x_test2)"
   ]
  },
  {
   "cell_type": "code",
   "execution_count": 113,
   "id": "c6d93f7a",
   "metadata": {},
   "outputs": [
    {
     "data": {
      "text/plain": [
       "0.7014925373134329"
      ]
     },
     "execution_count": 113,
     "metadata": {},
     "output_type": "execute_result"
    }
   ],
   "source": [
    "accuracy_score(y_test2['attrition'],y_test2['predicted_attrition_nb'],normalize=True)"
   ]
  },
  {
   "cell_type": "code",
   "execution_count": 114,
   "id": "09598e4c",
   "metadata": {},
   "outputs": [
    {
     "name": "stdout",
     "output_type": "stream",
     "text": [
      "[[83 23]\n",
      " [17 11]]\n"
     ]
    }
   ],
   "source": [
    "print(confusion_matrix(y_test1['attrition'],y_test2['predicted_attrition_nb']))"
   ]
  },
  {
   "cell_type": "code",
   "execution_count": 115,
   "id": "7e4bcc41",
   "metadata": {},
   "outputs": [
    {
     "name": "stdout",
     "output_type": "stream",
     "text": [
      "              precision    recall  f1-score   support\n",
      "\n",
      "           0       0.83      0.78      0.81       106\n",
      "           1       0.32      0.39      0.35        28\n",
      "\n",
      "    accuracy                           0.70       134\n",
      "   macro avg       0.58      0.59      0.58       134\n",
      "weighted avg       0.72      0.70      0.71       134\n",
      "\n"
     ]
    }
   ],
   "source": [
    "print(classification_report(y_test1['attrition'],y_test2['predicted_attrition_nb']))"
   ]
  },
  {
   "cell_type": "code",
   "execution_count": 116,
   "id": "f35add31",
   "metadata": {},
   "outputs": [
    {
     "name": "stdout",
     "output_type": "stream",
     "text": [
      "precision 0.3235294117647059\n",
      "sensitivity/recall 0.39285714285714285\n"
     ]
    }
   ],
   "source": [
    "print(\"precision\", metrics.precision_score(y_test1['attrition'],y_test2['predicted_attrition_nb']))\n",
    "print(\"sensitivity/recall\", metrics.recall_score(y_test1['attrition'],y_test2['predicted_attrition_nb']))"
   ]
  },
  {
   "cell_type": "markdown",
   "id": "3ad39a4b",
   "metadata": {},
   "source": [
    "## naive bayes algorithm give 70 % accuracy "
   ]
  },
  {
   "cell_type": "markdown",
   "id": "3a958d92",
   "metadata": {},
   "source": [
    " # Model 4 Decision Tree "
   ]
  },
  {
   "cell_type": "code",
   "execution_count": 119,
   "id": "743cc3a7",
   "metadata": {},
   "outputs": [],
   "source": [
    "x_train3,x_test3,y_train3,y_test3=train_test_split(X,Y,train_size=0.70,random_state=42)"
   ]
  },
  {
   "cell_type": "code",
   "execution_count": 120,
   "id": "e6cc5115",
   "metadata": {},
   "outputs": [],
   "source": [
    "from sklearn.tree import DecisionTreeClassifier"
   ]
  },
  {
   "cell_type": "code",
   "execution_count": 126,
   "id": "97a3fcff",
   "metadata": {},
   "outputs": [],
   "source": [
    "dt=DecisionTreeClassifier(max_depth=3)"
   ]
  },
  {
   "cell_type": "code",
   "execution_count": 145,
   "id": "5b7bffaa",
   "metadata": {},
   "outputs": [
    {
     "data": {
      "text/plain": [
       "DecisionTreeClassifier(max_depth=3)"
      ]
     },
     "execution_count": 145,
     "metadata": {},
     "output_type": "execute_result"
    }
   ],
   "source": [
    "dt"
   ]
  },
  {
   "cell_type": "markdown",
   "id": "75f10527",
   "metadata": {},
   "source": [
    "as we already have built model so we are well aware that we have to apply SMoTE for data avoiding overfitting "
   ]
  },
  {
   "cell_type": "code",
   "execution_count": 125,
   "id": "2ef07c3e",
   "metadata": {},
   "outputs": [],
   "source": [
    "x_train3_new,y_train3_new=sm.fit_resample(x_train3,y_train3)"
   ]
  },
  {
   "cell_type": "code",
   "execution_count": 127,
   "id": "91d07a51",
   "metadata": {},
   "outputs": [],
   "source": [
    "model_dt=dt.fit(x_train3_new,y_train3_new)"
   ]
  },
  {
   "cell_type": "code",
   "execution_count": 128,
   "id": "268d5c82",
   "metadata": {},
   "outputs": [],
   "source": [
    "y_test3['predicted_attrition_dt']=model_dt.predict(x_test3)"
   ]
  },
  {
   "cell_type": "code",
   "execution_count": 129,
   "id": "32013230",
   "metadata": {},
   "outputs": [
    {
     "data": {
      "text/plain": [
       "0.40298507462686567"
      ]
     },
     "execution_count": 129,
     "metadata": {},
     "output_type": "execute_result"
    }
   ],
   "source": [
    "accuracy_score(y_test3['attrition'],y_test3['predicted_attrition_dt'],normalize=True)"
   ]
  },
  {
   "cell_type": "code",
   "execution_count": 130,
   "id": "78c3a022",
   "metadata": {},
   "outputs": [
    {
     "name": "stdout",
     "output_type": "stream",
     "text": [
      "[[34 72]\n",
      " [ 8 20]]\n"
     ]
    }
   ],
   "source": [
    "print(confusion_matrix(y_test3['attrition'],y_test3['predicted_attrition_dt']))"
   ]
  },
  {
   "cell_type": "code",
   "execution_count": 131,
   "id": "7a4d3218",
   "metadata": {},
   "outputs": [
    {
     "name": "stdout",
     "output_type": "stream",
     "text": [
      "              precision    recall  f1-score   support\n",
      "\n",
      "           0       0.81      0.32      0.46       106\n",
      "           1       0.22      0.71      0.33        28\n",
      "\n",
      "    accuracy                           0.40       134\n",
      "   macro avg       0.51      0.52      0.40       134\n",
      "weighted avg       0.69      0.40      0.43       134\n",
      "\n"
     ]
    }
   ],
   "source": [
    "print(classification_report(y_test3['attrition'],y_test3['predicted_attrition_dt']))"
   ]
  },
  {
   "cell_type": "code",
   "execution_count": 133,
   "id": "bf2caf19",
   "metadata": {},
   "outputs": [
    {
     "name": "stdout",
     "output_type": "stream",
     "text": [
      "precision 0.21739130434782608\n"
     ]
    }
   ],
   "source": [
    "print(\"precision\",metrics.precision_score(y_test3['attrition'],y_test3['predicted_attrition_dt']))"
   ]
  },
  {
   "cell_type": "code",
   "execution_count": 135,
   "id": "5ed47ca1",
   "metadata": {},
   "outputs": [
    {
     "name": "stdout",
     "output_type": "stream",
     "text": [
      "recall is 0.7142857142857143\n"
     ]
    }
   ],
   "source": [
    "print(\"recall is\",metrics.recall_score(y_test3['attrition'],y_test3['predicted_attrition_dt']))"
   ]
  },
  {
   "cell_type": "code",
   "execution_count": 136,
   "id": "073b6232",
   "metadata": {},
   "outputs": [],
   "source": [
    "# Importing required packages for visualization\n",
    "from IPython.display import Image  \n",
    "from six import StringIO  \n",
    "from sklearn.tree import export_graphviz\n",
    "import pydotplus, graphviz"
   ]
  },
  {
   "cell_type": "code",
   "execution_count": 137,
   "id": "cd02fde4",
   "metadata": {},
   "outputs": [
    {
     "data": {
      "image/png": "[encoded data removed]",
      "text/plain": [
       "<IPython.core.display.Image object>"
      ]
     },
     "execution_count": 137,
     "metadata": {},
     "output_type": "execute_result"
    }
   ],
   "source": [
    "# plotting tree with max_depth=3\n",
    "dot_data = StringIO()  \n",
    "\n",
    "export_graphviz(dt, out_file=dot_data, filled=True, rounded=True,\n",
    "                feature_names=X.columns, \n",
    "                class_names=['No attrition', \"attrition\"])\n",
    "\n",
    "graph = pydotplus.graph_from_dot_data(dot_data.getvalue())\n",
    "Image(graph.create_png())\n",
    "#Image(graph.create_png(),width=800,height=900)\n",
    "#graph.write_pdf(\"dt_heartdisease.pdf\")"
   ]
  },
  {
   "cell_type": "markdown",
   "id": "a4ba6934",
   "metadata": {},
   "source": [
    "## hyper_parameter tuning for best parameter "
   ]
  },
  {
   "cell_type": "code",
   "execution_count": null,
   "id": "71df3e31",
   "metadata": {},
   "outputs": [],
   "source": []
  },
  {
   "cell_type": "code",
   "execution_count": 138,
   "id": "206a30eb",
   "metadata": {},
   "outputs": [],
   "source": [
    "# Create the parameter grid based on the results of random search \n",
    "params = {\n",
    "    'max_depth': [2, 3, 5, 10, 20],\n",
    "    'min_samples_leaf': [5, 10, 20, 50, 100],\n",
    "    'criterion': [\"gini\", \"entropy\"]\n",
    "}"
   ]
  },
  {
   "cell_type": "code",
   "execution_count": 139,
   "id": "c72feb55",
   "metadata": {},
   "outputs": [],
   "source": [
    "# Instantiate the grid search model\n",
    "grid_search = GridSearchCV(estimator=dt, \n",
    "                           param_grid=params, \n",
    "                           cv=4, n_jobs=-1, verbose=1, scoring = \"accuracy\")"
   ]
  },
  {
   "cell_type": "code",
   "execution_count": 140,
   "id": "c6e4f702",
   "metadata": {},
   "outputs": [
    {
     "name": "stdout",
     "output_type": "stream",
     "text": [
      "Fitting 4 folds for each of 50 candidates, totalling 200 fits\n",
      "Wall time: 6.61 s\n"
     ]
    },
    {
     "data": {
      "text/plain": [
       "GridSearchCV(cv=4, estimator=DecisionTreeClassifier(max_depth=3), n_jobs=-1,\n",
       "             param_grid={'criterion': ['gini', 'entropy'],\n",
       "                         'max_depth': [2, 3, 5, 10, 20],\n",
       "                         'min_samples_leaf': [5, 10, 20, 50, 100]},\n",
       "             scoring='accuracy', verbose=1)"
      ]
     },
     "execution_count": 140,
     "metadata": {},
     "output_type": "execute_result"
    }
   ],
   "source": [
    "\n",
    "%%time\n",
    "grid_search.fit(x_train3_new,y_train3_new)"
   ]
  },
  {
   "cell_type": "code",
   "execution_count": 141,
   "id": "42604aa4",
   "metadata": {},
   "outputs": [
    {
     "data": {
      "text/html": [
       "<div>\n",
       "<style scoped>\n",
       "    .dataframe tbody tr th:only-of-type {\n",
       "        vertical-align: middle;\n",
       "    }\n",
       "\n",
       "    .dataframe tbody tr th {\n",
       "        vertical-align: top;\n",
       "    }\n",
       "\n",
       "    .dataframe thead th {\n",
       "        text-align: right;\n",
       "    }\n",
       "</style>\n",
       "<table border=\"1\" class=\"dataframe\">\n",
       "  <thead>\n",
       "    <tr style=\"text-align: right;\">\n",
       "      <th></th>\n",
       "      <th>mean_fit_time</th>\n",
       "      <th>std_fit_time</th>\n",
       "      <th>mean_score_time</th>\n",
       "      <th>std_score_time</th>\n",
       "      <th>param_criterion</th>\n",
       "      <th>param_max_depth</th>\n",
       "      <th>param_min_samples_leaf</th>\n",
       "      <th>params</th>\n",
       "      <th>split0_test_score</th>\n",
       "      <th>split1_test_score</th>\n",
       "      <th>split2_test_score</th>\n",
       "      <th>split3_test_score</th>\n",
       "      <th>mean_test_score</th>\n",
       "      <th>std_test_score</th>\n",
       "      <th>rank_test_score</th>\n",
       "    </tr>\n",
       "  </thead>\n",
       "  <tbody>\n",
       "    <tr>\n",
       "      <th>0</th>\n",
       "      <td>0.007254</td>\n",
       "      <td>0.000430</td>\n",
       "      <td>0.003247</td>\n",
       "      <td>0.000433</td>\n",
       "      <td>gini</td>\n",
       "      <td>2</td>\n",
       "      <td>5</td>\n",
       "      <td>{'criterion': 'gini', 'max_depth': 2, 'min_sam...</td>\n",
       "      <td>0.569106</td>\n",
       "      <td>0.552846</td>\n",
       "      <td>0.622951</td>\n",
       "      <td>0.614754</td>\n",
       "      <td>0.589914</td>\n",
       "      <td>0.029646</td>\n",
       "      <td>31</td>\n",
       "    </tr>\n",
       "    <tr>\n",
       "      <th>1</th>\n",
       "      <td>0.008253</td>\n",
       "      <td>0.000433</td>\n",
       "      <td>0.003000</td>\n",
       "      <td>0.000003</td>\n",
       "      <td>gini</td>\n",
       "      <td>2</td>\n",
       "      <td>10</td>\n",
       "      <td>{'criterion': 'gini', 'max_depth': 2, 'min_sam...</td>\n",
       "      <td>0.569106</td>\n",
       "      <td>0.552846</td>\n",
       "      <td>0.622951</td>\n",
       "      <td>0.614754</td>\n",
       "      <td>0.589914</td>\n",
       "      <td>0.029646</td>\n",
       "      <td>31</td>\n",
       "    </tr>\n",
       "    <tr>\n",
       "      <th>2</th>\n",
       "      <td>0.010753</td>\n",
       "      <td>0.005356</td>\n",
       "      <td>0.003001</td>\n",
       "      <td>0.000005</td>\n",
       "      <td>gini</td>\n",
       "      <td>2</td>\n",
       "      <td>20</td>\n",
       "      <td>{'criterion': 'gini', 'max_depth': 2, 'min_sam...</td>\n",
       "      <td>0.569106</td>\n",
       "      <td>0.552846</td>\n",
       "      <td>0.704918</td>\n",
       "      <td>0.614754</td>\n",
       "      <td>0.610406</td>\n",
       "      <td>0.059098</td>\n",
       "      <td>7</td>\n",
       "    </tr>\n",
       "    <tr>\n",
       "      <th>3</th>\n",
       "      <td>0.007503</td>\n",
       "      <td>0.000497</td>\n",
       "      <td>0.003249</td>\n",
       "      <td>0.000433</td>\n",
       "      <td>gini</td>\n",
       "      <td>2</td>\n",
       "      <td>50</td>\n",
       "      <td>{'criterion': 'gini', 'max_depth': 2, 'min_sam...</td>\n",
       "      <td>0.577236</td>\n",
       "      <td>0.552846</td>\n",
       "      <td>0.639344</td>\n",
       "      <td>0.573770</td>\n",
       "      <td>0.585799</td>\n",
       "      <td>0.032292</td>\n",
       "      <td>35</td>\n",
       "    </tr>\n",
       "    <tr>\n",
       "      <th>4</th>\n",
       "      <td>0.003748</td>\n",
       "      <td>0.000830</td>\n",
       "      <td>0.001751</td>\n",
       "      <td>0.000433</td>\n",
       "      <td>gini</td>\n",
       "      <td>2</td>\n",
       "      <td>100</td>\n",
       "      <td>{'criterion': 'gini', 'max_depth': 2, 'min_sam...</td>\n",
       "      <td>0.577236</td>\n",
       "      <td>0.585366</td>\n",
       "      <td>0.639344</td>\n",
       "      <td>0.573770</td>\n",
       "      <td>0.593929</td>\n",
       "      <td>0.026556</td>\n",
       "      <td>21</td>\n",
       "    </tr>\n",
       "  </tbody>\n",
       "</table>\n",
       "</div>"
      ],
      "text/plain": [
       "   mean_fit_time  std_fit_time  mean_score_time  std_score_time  \\\n",
       "0       0.007254      0.000430         0.003247        0.000433   \n",
       "1       0.008253      0.000433         0.003000        0.000003   \n",
       "2       0.010753      0.005356         0.003001        0.000005   \n",
       "3       0.007503      0.000497         0.003249        0.000433   \n",
       "4       0.003748      0.000830         0.001751        0.000433   \n",
       "\n",
       "  param_criterion param_max_depth param_min_samples_leaf  \\\n",
       "0            gini               2                      5   \n",
       "1            gini               2                     10   \n",
       "2            gini               2                     20   \n",
       "3            gini               2                     50   \n",
       "4            gini               2                    100   \n",
       "\n",
       "                                              params  split0_test_score  \\\n",
       "0  {'criterion': 'gini', 'max_depth': 2, 'min_sam...           0.569106   \n",
       "1  {'criterion': 'gini', 'max_depth': 2, 'min_sam...           0.569106   \n",
       "2  {'criterion': 'gini', 'max_depth': 2, 'min_sam...           0.569106   \n",
       "3  {'criterion': 'gini', 'max_depth': 2, 'min_sam...           0.577236   \n",
       "4  {'criterion': 'gini', 'max_depth': 2, 'min_sam...           0.577236   \n",
       "\n",
       "   split1_test_score  split2_test_score  split3_test_score  mean_test_score  \\\n",
       "0           0.552846           0.622951           0.614754         0.589914   \n",
       "1           0.552846           0.622951           0.614754         0.589914   \n",
       "2           0.552846           0.704918           0.614754         0.610406   \n",
       "3           0.552846           0.639344           0.573770         0.585799   \n",
       "4           0.585366           0.639344           0.573770         0.593929   \n",
       "\n",
       "   std_test_score  rank_test_score  \n",
       "0        0.029646               31  \n",
       "1        0.029646               31  \n",
       "2        0.059098                7  \n",
       "3        0.032292               35  \n",
       "4        0.026556               21  "
      ]
     },
     "execution_count": 141,
     "metadata": {},
     "output_type": "execute_result"
    }
   ],
   "source": [
    "score_df = pd.DataFrame(grid_search.cv_results_)\n",
    "score_df.head()"
   ]
  },
  {
   "cell_type": "code",
   "execution_count": 142,
   "id": "f21ba189",
   "metadata": {},
   "outputs": [
    {
     "data": {
      "text/plain": [
       "DecisionTreeClassifier(criterion='entropy', max_depth=10, min_samples_leaf=5)"
      ]
     },
     "execution_count": 142,
     "metadata": {},
     "output_type": "execute_result"
    }
   ],
   "source": [
    "grid_search.best_estimator_"
   ]
  },
  {
   "cell_type": "markdown",
   "id": "237311ba",
   "metadata": {},
   "source": [
    "## Thus we get best estimator as criterion='entropy', max_depth=10, min_samples_leaf=5"
   ]
  },
  {
   "cell_type": "code",
   "execution_count": 143,
   "id": "c3ec59c8",
   "metadata": {},
   "outputs": [],
   "source": [
    "dt_best = grid_search.best_estimator_"
   ]
  },
  {
   "cell_type": "code",
   "execution_count": 146,
   "id": "963b554d",
   "metadata": {},
   "outputs": [
    {
     "data": {
      "text/plain": [
       "DecisionTreeClassifier(criterion='entropy', max_depth=10, min_samples_leaf=5)"
      ]
     },
     "execution_count": 146,
     "metadata": {},
     "output_type": "execute_result"
    }
   ],
   "source": [
    "dt_best"
   ]
  },
  {
   "cell_type": "code",
   "execution_count": 147,
   "id": "e76acb9e",
   "metadata": {},
   "outputs": [],
   "source": [
    "model_dt=dt_best.fit(x_train3_new,y_train3_new)"
   ]
  },
  {
   "cell_type": "code",
   "execution_count": 148,
   "id": "728229cf",
   "metadata": {},
   "outputs": [],
   "source": [
    "y_test3['predicted_attrition__best_para_dt']=model_dt.predict(x_test3)"
   ]
  },
  {
   "cell_type": "code",
   "execution_count": 149,
   "id": "475ea069",
   "metadata": {},
   "outputs": [
    {
     "data": {
      "text/plain": [
       "0.5"
      ]
     },
     "execution_count": 149,
     "metadata": {},
     "output_type": "execute_result"
    }
   ],
   "source": [
    "accuracy_score(y_test3['attrition'],y_test3['predicted_attrition__best_para_dt'],normalize=True)"
   ]
  },
  {
   "cell_type": "code",
   "execution_count": 150,
   "id": "a2774c05",
   "metadata": {},
   "outputs": [
    {
     "name": "stdout",
     "output_type": "stream",
     "text": [
      "[[54 52]\n",
      " [15 13]]\n"
     ]
    }
   ],
   "source": [
    "print(confusion_matrix(y_test3['attrition'],y_test3['predicted_attrition__best_para_dt']))"
   ]
  },
  {
   "cell_type": "code",
   "execution_count": 151,
   "id": "dd88fd79",
   "metadata": {},
   "outputs": [
    {
     "name": "stdout",
     "output_type": "stream",
     "text": [
      "              precision    recall  f1-score   support\n",
      "\n",
      "           0       0.78      0.51      0.62       106\n",
      "           1       0.20      0.46      0.28        28\n",
      "\n",
      "    accuracy                           0.50       134\n",
      "   macro avg       0.49      0.49      0.45       134\n",
      "weighted avg       0.66      0.50      0.55       134\n",
      "\n"
     ]
    }
   ],
   "source": [
    "print(classification_report(y_test3['attrition'],y_test3['predicted_attrition__best_para_dt']))"
   ]
  },
  {
   "cell_type": "code",
   "execution_count": 152,
   "id": "24ed71df",
   "metadata": {},
   "outputs": [
    {
     "name": "stdout",
     "output_type": "stream",
     "text": [
      "precision 0.2\n"
     ]
    }
   ],
   "source": [
    "print(\"precision\",metrics.precision_score(y_test3['attrition'],y_test3['predicted_attrition__best_para_dt']))"
   ]
  },
  {
   "cell_type": "code",
   "execution_count": 153,
   "id": "ef28ef51",
   "metadata": {},
   "outputs": [
    {
     "name": "stdout",
     "output_type": "stream",
     "text": [
      "recall 0.4642857142857143\n"
     ]
    }
   ],
   "source": [
    "print(\"recall\",metrics.recall_score(y_test3['attrition'],y_test3['predicted_attrition__best_para_dt']))"
   ]
  },
  {
   "cell_type": "markdown",
   "id": "d291031a",
   "metadata": {},
   "source": [
    "## in  order to get best recall which is best metrics for HR attrition domain we have to compromise the accuracy so decision tree is best model which gives 46% recall "
   ]
  },
  {
   "cell_type": "markdown",
   "id": "a353bf5e",
   "metadata": {},
   "source": [
    "### Now we will check for our final model i.e Random forest "
   ]
  },
  {
   "cell_type": "markdown",
   "id": "ea518aea",
   "metadata": {},
   "source": [
    "# Model 5:Random forest classifier"
   ]
  },
  {
   "cell_type": "code",
   "execution_count": 154,
   "id": "4b678a0f",
   "metadata": {},
   "outputs": [],
   "source": [
    "x_train4,x_test4,y_train4,y_test4=train_test_split(X,Y,train_size=0.70,random_state=42)"
   ]
  },
  {
   "cell_type": "code",
   "execution_count": 155,
   "id": "f6402b25",
   "metadata": {},
   "outputs": [],
   "source": [
    "from sklearn.ensemble import RandomForestClassifier"
   ]
  },
  {
   "cell_type": "code",
   "execution_count": 156,
   "id": "a4f1b136",
   "metadata": {},
   "outputs": [],
   "source": [
    "rf=RandomForestClassifier(n_estimators=100)"
   ]
  },
  {
   "cell_type": "code",
   "execution_count": 157,
   "id": "f6fe58b3",
   "metadata": {},
   "outputs": [],
   "source": [
    "x_train4_new,y_train4_new=sm.fit_resample(x_train4,y_train4)"
   ]
  },
  {
   "cell_type": "code",
   "execution_count": 158,
   "id": "dd631b62",
   "metadata": {},
   "outputs": [],
   "source": [
    "model_rf=rf.fit(x_train4,y_train4)"
   ]
  },
  {
   "cell_type": "code",
   "execution_count": 159,
   "id": "37b25f01",
   "metadata": {},
   "outputs": [],
   "source": [
    "y_test4['Predicted_attrition_rf']=model_rf.predict(x_test4)\n"
   ]
  },
  {
   "cell_type": "code",
   "execution_count": 160,
   "id": "decd76a3",
   "metadata": {},
   "outputs": [
    {
     "data": {
      "text/plain": [
       "0.7014925373134329"
      ]
     },
     "execution_count": 160,
     "metadata": {},
     "output_type": "execute_result"
    }
   ],
   "source": [
    "accuracy_score(y_test4['attrition'],y_test4['Predicted_attrition_rf'],normalize=True)"
   ]
  },
  {
   "cell_type": "code",
   "execution_count": 161,
   "id": "610f9aa3",
   "metadata": {},
   "outputs": [
    {
     "name": "stdout",
     "output_type": "stream",
     "text": [
      "[[83 23]\n",
      " [17 11]]\n"
     ]
    }
   ],
   "source": [
    "print(confusion_matrix(y_test4['attrition'],y_test4['Predicted_attrition_rf']))"
   ]
  },
  {
   "cell_type": "code",
   "execution_count": 164,
   "id": "2372d269",
   "metadata": {},
   "outputs": [
    {
     "name": "stdout",
     "output_type": "stream",
     "text": [
      "              precision    recall  f1-score   support\n",
      "\n",
      "           0       0.78      0.69      0.73       106\n",
      "           1       0.17      0.25      0.21        28\n",
      "\n",
      "    accuracy                           0.60       134\n",
      "   macro avg       0.48      0.47      0.47       134\n",
      "weighted avg       0.65      0.60      0.62       134\n",
      "\n"
     ]
    }
   ],
   "source": [
    "print(classification_report(y_test4['attrition'],y_test4['Predicted_attrition_rf']))"
   ]
  },
  {
   "cell_type": "code",
   "execution_count": 165,
   "id": "476fe5d5",
   "metadata": {},
   "outputs": [
    {
     "name": "stdout",
     "output_type": "stream",
     "text": [
      "precision 0.175\n"
     ]
    }
   ],
   "source": [
    "print(\"precision\",metrics.precision_score(y_test4['attrition'],y_test4['Predicted_attrition_rf']))"
   ]
  },
  {
   "cell_type": "code",
   "execution_count": 166,
   "id": "f38c36bb",
   "metadata": {},
   "outputs": [
    {
     "name": "stdout",
     "output_type": "stream",
     "text": [
      "Recall 0.25\n"
     ]
    }
   ],
   "source": [
    "print(\"Recall\",metrics.recall_score(y_test4['attrition'],y_test4['Predicted_attrition_rf']))"
   ]
  },
  {
   "cell_type": "code",
   "execution_count": null,
   "id": "c3eeb906",
   "metadata": {},
   "outputs": [],
   "source": []
  },
  {
   "cell_type": "code",
   "execution_count": null,
   "id": "8782fde2",
   "metadata": {},
   "outputs": [],
   "source": []
  }
 ],
 "metadata": {
  "kernelspec": {
   "display_name": "Python 3 (ipykernel)",
   "language": "python",
   "name": "python3"
  },
  "language_info": {
   "codemirror_mode": {
    "name": "ipython",
    "version": 3
   },
   "file_extension": ".py",
   "mimetype": "text/x-python",
   "name": "python",
   "nbconvert_exporter": "python",
   "pygments_lexer": "ipython3",
   "version": "3.9.13"
  }
 },
 "nbformat": 4,
 "nbformat_minor": 5
}
